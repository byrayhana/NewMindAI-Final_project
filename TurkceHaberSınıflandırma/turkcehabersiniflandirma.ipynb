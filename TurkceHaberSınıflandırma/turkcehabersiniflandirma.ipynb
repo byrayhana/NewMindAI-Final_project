{
 "cells": [
  {
   "cell_type": "code",
   "execution_count": 1,
   "id": "51919972",
   "metadata": {
    "_cell_guid": "b1076dfc-b9ad-4769-8c92-a6c4dae69d19",
    "_uuid": "8f2839f25d086af736a60e9eeb907d3b93b6e0e5",
    "execution": {
     "iopub.execute_input": "2024-12-08T23:50:13.549243Z",
     "iopub.status.busy": "2024-12-08T23:50:13.548868Z",
     "iopub.status.idle": "2024-12-08T23:50:14.375942Z",
     "shell.execute_reply": "2024-12-08T23:50:14.374674Z"
    },
    "papermill": {
     "duration": 0.841977,
     "end_time": "2024-12-08T23:50:14.379062",
     "exception": false,
     "start_time": "2024-12-08T23:50:13.537085",
     "status": "completed"
    },
    "tags": []
   },
   "outputs": [
    {
     "name": "stdout",
     "output_type": "stream",
     "text": [
      "/kaggle/input/stemmed-data/StemmedData.csv\n",
      "/kaggle/input/habersampled/undersampled_data.csv\n"
     ]
    }
   ],
   "source": [
    "# This Python 3 environment comes with many helpful analytics libraries installed\n",
    "# It is defined by the kaggle/python Docker image: https://github.com/kaggle/docker-python\n",
    "# For example, here's several helpful packages to load\n",
    "\n",
    "import numpy as np # linear algebra\n",
    "import pandas as pd # data processing, CSV file I/O (e.g. pd.read_csv)\n",
    "\n",
    "# Input data files are available in the read-only \"../input/\" directory\n",
    "# For example, running this (by clicking run or pressing Shift+Enter) will list all files under the input directory\n",
    "\n",
    "import os\n",
    "for dirname, _, filenames in os.walk('/kaggle/input'):\n",
    "    for filename in filenames:\n",
    "        print(os.path.join(dirname, filename))\n",
    "\n",
    "# You can write up to 20GB to the current directory (/kaggle/working/) that gets preserved as output when you create a version using \"Save & Run All\" \n",
    "# You can also write temporary files to /kaggle/temp/, but they won't be saved outside of the current session"
   ]
  },
  {
   "cell_type": "code",
   "execution_count": 2,
   "id": "2636dec6",
   "metadata": {
    "execution": {
     "iopub.execute_input": "2024-12-08T23:50:14.402876Z",
     "iopub.status.busy": "2024-12-08T23:50:14.402388Z",
     "iopub.status.idle": "2024-12-08T23:50:18.185899Z",
     "shell.execute_reply": "2024-12-08T23:50:18.184886Z"
    },
    "papermill": {
     "duration": 3.797382,
     "end_time": "2024-12-08T23:50:18.188140",
     "exception": false,
     "start_time": "2024-12-08T23:50:14.390758",
     "status": "completed"
    },
    "tags": []
   },
   "outputs": [
    {
     "name": "stderr",
     "output_type": "stream",
     "text": [
      "/opt/conda/lib/python3.10/site-packages/nltk/twitter/__init__.py:20: UserWarning: The twython library has not been installed. Some functionality from the twitter package will not be available.\n",
      "  warnings.warn(\"The twython library has not been installed. \"\n"
     ]
    },
    {
     "name": "stdout",
     "output_type": "stream",
     "text": [
      "[nltk_data] Downloading package punkt to /usr/share/nltk_data...\n",
      "[nltk_data]   Package punkt is already up-to-date!\n",
      "[nltk_data] Downloading package stopwords to /usr/share/nltk_data...\n",
      "[nltk_data]   Package stopwords is already up-to-date!\n",
      "[nltk_data] Downloading package omw-1.4 to /usr/share/nltk_data...\n"
     ]
    }
   ],
   "source": [
    "from warnings import filterwarnings\n",
    "import matplotlib.pyplot as plt\n",
    "import numpy as np\n",
    "import pandas as pd\n",
    "import seaborn as sns\n",
    "from PIL import Image\n",
    "from nltk.sentiment import SentimentIntensityAnalyzer\n",
    "from sklearn.ensemble import RandomForestClassifier\n",
    "from sklearn.metrics import classification_report, confusion_matrix\n",
    "from sklearn.linear_model import LogisticRegression\n",
    "from sklearn.model_selection import cross_val_score, GridSearchCV, cross_validate,train_test_split\n",
    "from sklearn.preprocessing import LabelEncoder\n",
    "import string\n",
    "import nltk\n",
    "from nltk.tokenize import word_tokenize\n",
    "import snowballstemmer\n",
    "from sklearn.feature_extraction.text import TfidfVectorizer\n",
    "nltk.download('punkt')\n",
    "nltk.download('stopwords')\n",
    "nltk.download('omw-1.4')\n",
    "from nltk.tokenize import word_tokenize\n",
    "from nltk.stem import PorterStemmer\n",
    "from snowballstemmer import TurkishStemmer"
   ]
  },
  {
   "cell_type": "code",
   "execution_count": 3,
   "id": "4c80b6f2",
   "metadata": {
    "execution": {
     "iopub.execute_input": "2024-12-08T23:50:18.210024Z",
     "iopub.status.busy": "2024-12-08T23:50:18.209522Z",
     "iopub.status.idle": "2024-12-08T23:50:31.801728Z",
     "shell.execute_reply": "2024-12-08T23:50:31.800624Z"
    },
    "papermill": {
     "duration": 13.606177,
     "end_time": "2024-12-08T23:50:31.804471",
     "exception": false,
     "start_time": "2024-12-08T23:50:18.198294",
     "status": "completed"
    },
    "tags": []
   },
   "outputs": [],
   "source": [
    " df=pd.read_csv(\"/kaggle/input/habersampled/undersampled_data.csv\")"
   ]
  },
  {
   "cell_type": "code",
   "execution_count": 4,
   "id": "62dc9530",
   "metadata": {
    "execution": {
     "iopub.execute_input": "2024-12-08T23:50:31.828096Z",
     "iopub.status.busy": "2024-12-08T23:50:31.827656Z",
     "iopub.status.idle": "2024-12-08T23:50:31.833190Z",
     "shell.execute_reply": "2024-12-08T23:50:31.832098Z"
    },
    "papermill": {
     "duration": 0.018876,
     "end_time": "2024-12-08T23:50:31.835413",
     "exception": false,
     "start_time": "2024-12-08T23:50:31.816537",
     "status": "completed"
    },
    "tags": []
   },
   "outputs": [],
   "source": [
    "import re\n",
    "\n",
    "def clean_text(text):\n",
    "    text = text.replace('\"', '').replace(\"'\", '')\n",
    "    text = re.sub(r'[^\\w\\s]', '', text)\n",
    "    text = re.sub(r'\\d+', '', text)\n",
    "    text = ' '.join(text.split())\n",
    "    return text"
   ]
  },
  {
   "cell_type": "code",
   "execution_count": 5,
   "id": "b14c8e4a",
   "metadata": {
    "execution": {
     "iopub.execute_input": "2024-12-08T23:50:31.856856Z",
     "iopub.status.busy": "2024-12-08T23:50:31.856500Z",
     "iopub.status.idle": "2024-12-08T23:50:53.420810Z",
     "shell.execute_reply": "2024-12-08T23:50:53.419700Z"
    },
    "papermill": {
     "duration": 21.578039,
     "end_time": "2024-12-08T23:50:53.423402",
     "exception": false,
     "start_time": "2024-12-08T23:50:31.845363",
     "status": "completed"
    },
    "tags": []
   },
   "outputs": [],
   "source": [
    "df[\"haber\"]= df[\"haber\"].apply(clean_text)"
   ]
  },
  {
   "cell_type": "code",
   "execution_count": 6,
   "id": "c1134892",
   "metadata": {
    "execution": {
     "iopub.execute_input": "2024-12-08T23:50:53.447220Z",
     "iopub.status.busy": "2024-12-08T23:50:53.446876Z",
     "iopub.status.idle": "2024-12-08T23:50:53.466102Z",
     "shell.execute_reply": "2024-12-08T23:50:53.465150Z"
    },
    "papermill": {
     "duration": 0.032488,
     "end_time": "2024-12-08T23:50:53.468232",
     "exception": false,
     "start_time": "2024-12-08T23:50:53.435744",
     "status": "completed"
    },
    "tags": []
   },
   "outputs": [
    {
     "data": {
      "text/html": [
       "<div>\n",
       "<style scoped>\n",
       "    .dataframe tbody tr th:only-of-type {\n",
       "        vertical-align: middle;\n",
       "    }\n",
       "\n",
       "    .dataframe tbody tr th {\n",
       "        vertical-align: top;\n",
       "    }\n",
       "\n",
       "    .dataframe thead th {\n",
       "        text-align: right;\n",
       "    }\n",
       "</style>\n",
       "<table border=\"1\" class=\"dataframe\">\n",
       "  <thead>\n",
       "    <tr style=\"text-align: right;\">\n",
       "      <th></th>\n",
       "      <th>words</th>\n",
       "      <th>haber</th>\n",
       "      <th>sinif</th>\n",
       "    </tr>\n",
       "  </thead>\n",
       "  <tbody>\n",
       "    <tr>\n",
       "      <th>0</th>\n",
       "      <td>138</td>\n",
       "      <td>gore ekim saldirisi tutuklulardan kaynaklanan ...</td>\n",
       "      <td>Siyaset</td>\n",
       "    </tr>\n",
       "    <tr>\n",
       "      <th>1</th>\n",
       "      <td>138</td>\n",
       "      <td>katilimci demokrasi sivil toplumun siyaset kur...</td>\n",
       "      <td>Siyaset</td>\n",
       "    </tr>\n",
       "    <tr>\n",
       "      <th>2</th>\n",
       "      <td>135</td>\n",
       "      <td>tarihten ibret alinmadigi takdirde yeni acilar...</td>\n",
       "      <td>Siyaset</td>\n",
       "    </tr>\n",
       "    <tr>\n",
       "      <th>3</th>\n",
       "      <td>126</td>\n",
       "      <td>y sozde helallesme yolculuguna cikilan tutarsi...</td>\n",
       "      <td>Siyaset</td>\n",
       "    </tr>\n",
       "    <tr>\n",
       "      <th>4</th>\n",
       "      <td>127</td>\n",
       "      <td>hukumeti varligini hikmetini kaybetmistir diyo...</td>\n",
       "      <td>Siyaset</td>\n",
       "    </tr>\n",
       "    <tr>\n",
       "      <th>...</th>\n",
       "      <td>...</td>\n",
       "      <td>...</td>\n",
       "      <td>...</td>\n",
       "    </tr>\n",
       "    <tr>\n",
       "      <th>280671</th>\n",
       "      <td>132</td>\n",
       "      <td>cevre sehircilik iklim degisikligi bakani mehm...</td>\n",
       "      <td>Çevre</td>\n",
       "    </tr>\n",
       "    <tr>\n",
       "      <th>280672</th>\n",
       "      <td>127</td>\n",
       "      <td>iyi ortaya koydu arastirmada cogunlukla ekonom...</td>\n",
       "      <td>Çevre</td>\n",
       "    </tr>\n",
       "    <tr>\n",
       "      <th>280673</th>\n",
       "      <td>127</td>\n",
       "      <td>hakkinda uluslararasi ortak basin bildirisini ...</td>\n",
       "      <td>Çevre</td>\n",
       "    </tr>\n",
       "    <tr>\n",
       "      <th>280674</th>\n",
       "      <td>136</td>\n",
       "      <td>avza koruma eylem planinda acik sekilde havzad...</td>\n",
       "      <td>Çevre</td>\n",
       "    </tr>\n",
       "    <tr>\n",
       "      <th>280675</th>\n",
       "      <td>221</td>\n",
       "      <td>pg it hackathonu istanbul avrupa kentinde yapi...</td>\n",
       "      <td>Çevre</td>\n",
       "    </tr>\n",
       "  </tbody>\n",
       "</table>\n",
       "<p>280676 rows × 3 columns</p>\n",
       "</div>"
      ],
      "text/plain": [
       "        words                                              haber    sinif\n",
       "0         138  gore ekim saldirisi tutuklulardan kaynaklanan ...  Siyaset\n",
       "1         138  katilimci demokrasi sivil toplumun siyaset kur...  Siyaset\n",
       "2         135  tarihten ibret alinmadigi takdirde yeni acilar...  Siyaset\n",
       "3         126  y sozde helallesme yolculuguna cikilan tutarsi...  Siyaset\n",
       "4         127  hukumeti varligini hikmetini kaybetmistir diyo...  Siyaset\n",
       "...       ...                                                ...      ...\n",
       "280671    132  cevre sehircilik iklim degisikligi bakani mehm...    Çevre\n",
       "280672    127  iyi ortaya koydu arastirmada cogunlukla ekonom...    Çevre\n",
       "280673    127  hakkinda uluslararasi ortak basin bildirisini ...    Çevre\n",
       "280674    136  avza koruma eylem planinda acik sekilde havzad...    Çevre\n",
       "280675    221  pg it hackathonu istanbul avrupa kentinde yapi...    Çevre\n",
       "\n",
       "[280676 rows x 3 columns]"
      ]
     },
     "execution_count": 6,
     "metadata": {},
     "output_type": "execute_result"
    }
   ],
   "source": [
    "df"
   ]
  },
  {
   "cell_type": "code",
   "execution_count": 7,
   "id": "793c2447",
   "metadata": {
    "execution": {
     "iopub.execute_input": "2024-12-08T23:50:53.489860Z",
     "iopub.status.busy": "2024-12-08T23:50:53.489432Z",
     "iopub.status.idle": "2024-12-08T23:50:53.552348Z",
     "shell.execute_reply": "2024-12-08T23:50:53.551226Z"
    },
    "papermill": {
     "duration": 0.076523,
     "end_time": "2024-12-08T23:50:53.554806",
     "exception": false,
     "start_time": "2024-12-08T23:50:53.478283",
     "status": "completed"
    },
    "tags": []
   },
   "outputs": [],
   "source": [
    "dff=df.copy()"
   ]
  },
  {
   "cell_type": "code",
   "execution_count": 8,
   "id": "5e38c03c",
   "metadata": {
    "execution": {
     "iopub.execute_input": "2024-12-08T23:50:53.576673Z",
     "iopub.status.busy": "2024-12-08T23:50:53.575860Z",
     "iopub.status.idle": "2024-12-08T23:55:29.521086Z",
     "shell.execute_reply": "2024-12-08T23:55:29.520163Z"
    },
    "papermill": {
     "duration": 275.958746,
     "end_time": "2024-12-08T23:55:29.523449",
     "exception": false,
     "start_time": "2024-12-08T23:50:53.564703",
     "status": "completed"
    },
    "tags": []
   },
   "outputs": [],
   "source": [
    "dff['haber'] = dff['haber'].apply(word_tokenize)"
   ]
  },
  {
   "cell_type": "code",
   "execution_count": 9,
   "id": "a516d306",
   "metadata": {
    "execution": {
     "iopub.execute_input": "2024-12-08T23:55:29.545000Z",
     "iopub.status.busy": "2024-12-08T23:55:29.544232Z",
     "iopub.status.idle": "2024-12-08T23:55:29.621891Z",
     "shell.execute_reply": "2024-12-08T23:55:29.620856Z"
    },
    "papermill": {
     "duration": 0.090759,
     "end_time": "2024-12-08T23:55:29.624256",
     "exception": false,
     "start_time": "2024-12-08T23:55:29.533497",
     "status": "completed"
    },
    "tags": []
   },
   "outputs": [],
   "source": [
    "dn=dff.copy()"
   ]
  },
  {
   "cell_type": "code",
   "execution_count": 10,
   "id": "2ebf8209",
   "metadata": {
    "execution": {
     "iopub.execute_input": "2024-12-08T23:55:29.646202Z",
     "iopub.status.busy": "2024-12-08T23:55:29.645387Z",
     "iopub.status.idle": "2024-12-08T23:55:29.665533Z",
     "shell.execute_reply": "2024-12-08T23:55:29.664490Z"
    },
    "papermill": {
     "duration": 0.033139,
     "end_time": "2024-12-08T23:55:29.667581",
     "exception": false,
     "start_time": "2024-12-08T23:55:29.634442",
     "status": "completed"
    },
    "tags": []
   },
   "outputs": [
    {
     "data": {
      "text/html": [
       "<div>\n",
       "<style scoped>\n",
       "    .dataframe tbody tr th:only-of-type {\n",
       "        vertical-align: middle;\n",
       "    }\n",
       "\n",
       "    .dataframe tbody tr th {\n",
       "        vertical-align: top;\n",
       "    }\n",
       "\n",
       "    .dataframe thead th {\n",
       "        text-align: right;\n",
       "    }\n",
       "</style>\n",
       "<table border=\"1\" class=\"dataframe\">\n",
       "  <thead>\n",
       "    <tr style=\"text-align: right;\">\n",
       "      <th></th>\n",
       "      <th>words</th>\n",
       "      <th>haber</th>\n",
       "      <th>sinif</th>\n",
       "    </tr>\n",
       "  </thead>\n",
       "  <tbody>\n",
       "    <tr>\n",
       "      <th>0</th>\n",
       "      <td>138</td>\n",
       "      <td>[gore, ekim, saldirisi, tutuklulardan, kaynakl...</td>\n",
       "      <td>Siyaset</td>\n",
       "    </tr>\n",
       "    <tr>\n",
       "      <th>1</th>\n",
       "      <td>138</td>\n",
       "      <td>[katilimci, demokrasi, sivil, toplumun, siyase...</td>\n",
       "      <td>Siyaset</td>\n",
       "    </tr>\n",
       "    <tr>\n",
       "      <th>2</th>\n",
       "      <td>135</td>\n",
       "      <td>[tarihten, ibret, alinmadigi, takdirde, yeni, ...</td>\n",
       "      <td>Siyaset</td>\n",
       "    </tr>\n",
       "    <tr>\n",
       "      <th>3</th>\n",
       "      <td>126</td>\n",
       "      <td>[y, sozde, helallesme, yolculuguna, cikilan, t...</td>\n",
       "      <td>Siyaset</td>\n",
       "    </tr>\n",
       "    <tr>\n",
       "      <th>4</th>\n",
       "      <td>127</td>\n",
       "      <td>[hukumeti, varligini, hikmetini, kaybetmistir,...</td>\n",
       "      <td>Siyaset</td>\n",
       "    </tr>\n",
       "    <tr>\n",
       "      <th>...</th>\n",
       "      <td>...</td>\n",
       "      <td>...</td>\n",
       "      <td>...</td>\n",
       "    </tr>\n",
       "    <tr>\n",
       "      <th>280671</th>\n",
       "      <td>132</td>\n",
       "      <td>[cevre, sehircilik, iklim, degisikligi, bakani...</td>\n",
       "      <td>Çevre</td>\n",
       "    </tr>\n",
       "    <tr>\n",
       "      <th>280672</th>\n",
       "      <td>127</td>\n",
       "      <td>[iyi, ortaya, koydu, arastirmada, cogunlukla, ...</td>\n",
       "      <td>Çevre</td>\n",
       "    </tr>\n",
       "    <tr>\n",
       "      <th>280673</th>\n",
       "      <td>127</td>\n",
       "      <td>[hakkinda, uluslararasi, ortak, basin, bildiri...</td>\n",
       "      <td>Çevre</td>\n",
       "    </tr>\n",
       "    <tr>\n",
       "      <th>280674</th>\n",
       "      <td>136</td>\n",
       "      <td>[avza, koruma, eylem, planinda, acik, sekilde,...</td>\n",
       "      <td>Çevre</td>\n",
       "    </tr>\n",
       "    <tr>\n",
       "      <th>280675</th>\n",
       "      <td>221</td>\n",
       "      <td>[pg, it, hackathonu, istanbul, avrupa, kentind...</td>\n",
       "      <td>Çevre</td>\n",
       "    </tr>\n",
       "  </tbody>\n",
       "</table>\n",
       "<p>280676 rows × 3 columns</p>\n",
       "</div>"
      ],
      "text/plain": [
       "        words                                              haber    sinif\n",
       "0         138  [gore, ekim, saldirisi, tutuklulardan, kaynakl...  Siyaset\n",
       "1         138  [katilimci, demokrasi, sivil, toplumun, siyase...  Siyaset\n",
       "2         135  [tarihten, ibret, alinmadigi, takdirde, yeni, ...  Siyaset\n",
       "3         126  [y, sozde, helallesme, yolculuguna, cikilan, t...  Siyaset\n",
       "4         127  [hukumeti, varligini, hikmetini, kaybetmistir,...  Siyaset\n",
       "...       ...                                                ...      ...\n",
       "280671    132  [cevre, sehircilik, iklim, degisikligi, bakani...    Çevre\n",
       "280672    127  [iyi, ortaya, koydu, arastirmada, cogunlukla, ...    Çevre\n",
       "280673    127  [hakkinda, uluslararasi, ortak, basin, bildiri...    Çevre\n",
       "280674    136  [avza, koruma, eylem, planinda, acik, sekilde,...    Çevre\n",
       "280675    221  [pg, it, hackathonu, istanbul, avrupa, kentind...    Çevre\n",
       "\n",
       "[280676 rows x 3 columns]"
      ]
     },
     "execution_count": 10,
     "metadata": {},
     "output_type": "execute_result"
    }
   ],
   "source": [
    "dn"
   ]
  },
  {
   "cell_type": "markdown",
   "id": "e1617ccb",
   "metadata": {
    "papermill": {
     "duration": 0.009903,
     "end_time": "2024-12-08T23:55:29.687516",
     "exception": false,
     "start_time": "2024-12-08T23:55:29.677613",
     "status": "completed"
    },
    "tags": []
   },
   "source": [
    "# Stemming"
   ]
  },
  {
   "cell_type": "code",
   "execution_count": 11,
   "id": "0c23bb66",
   "metadata": {
    "execution": {
     "iopub.execute_input": "2024-12-08T23:55:29.710017Z",
     "iopub.status.busy": "2024-12-08T23:55:29.709658Z",
     "iopub.status.idle": "2024-12-09T02:35:24.358077Z",
     "shell.execute_reply": "2024-12-09T02:35:24.356444Z"
    },
    "papermill": {
     "duration": 9594.66284,
     "end_time": "2024-12-09T02:35:24.361032",
     "exception": false,
     "start_time": "2024-12-08T23:55:29.698192",
     "status": "completed"
    },
    "tags": []
   },
   "outputs": [],
   "source": [
    "stemmer = TurkishStemmer()\n",
    "dn[\"haber\"] = dn[\"haber\"].apply(lambda x: [stemmer.stemWord(word) for word in x])"
   ]
  },
  {
   "cell_type": "code",
   "execution_count": 12,
   "id": "ac8c2f86",
   "metadata": {
    "execution": {
     "iopub.execute_input": "2024-12-09T02:35:24.383890Z",
     "iopub.status.busy": "2024-12-09T02:35:24.383514Z",
     "iopub.status.idle": "2024-12-09T02:35:51.740512Z",
     "shell.execute_reply": "2024-12-09T02:35:51.739385Z"
    },
    "papermill": {
     "duration": 27.371051,
     "end_time": "2024-12-09T02:35:51.743045",
     "exception": false,
     "start_time": "2024-12-09T02:35:24.371994",
     "status": "completed"
    },
    "tags": []
   },
   "outputs": [],
   "source": [
    "dn.to_csv(\"StemmedData.csv\")"
   ]
  },
  {
   "cell_type": "code",
   "execution_count": 13,
   "id": "78222652",
   "metadata": {
    "execution": {
     "iopub.execute_input": "2024-12-09T02:35:51.765432Z",
     "iopub.status.busy": "2024-12-09T02:35:51.765026Z",
     "iopub.status.idle": "2024-12-09T02:35:58.919474Z",
     "shell.execute_reply": "2024-12-09T02:35:58.918291Z"
    },
    "papermill": {
     "duration": 7.168627,
     "end_time": "2024-12-09T02:35:58.921819",
     "exception": false,
     "start_time": "2024-12-09T02:35:51.753192",
     "status": "completed"
    },
    "tags": []
   },
   "outputs": [],
   "source": [
    "dn=pd.read_csv(\"/kaggle/working/StemmedData.csv\")"
   ]
  },
  {
   "cell_type": "markdown",
   "id": "5468fee7",
   "metadata": {
    "papermill": {
     "duration": 0.009802,
     "end_time": "2024-12-09T02:35:58.942282",
     "exception": false,
     "start_time": "2024-12-09T02:35:58.932480",
     "status": "completed"
    },
    "tags": []
   },
   "source": [
    "## Data Split"
   ]
  },
  {
   "cell_type": "code",
   "execution_count": 14,
   "id": "6810d240",
   "metadata": {
    "execution": {
     "iopub.execute_input": "2024-12-09T02:35:58.964469Z",
     "iopub.status.busy": "2024-12-09T02:35:58.964049Z",
     "iopub.status.idle": "2024-12-09T02:35:58.991580Z",
     "shell.execute_reply": "2024-12-09T02:35:58.990323Z"
    },
    "papermill": {
     "duration": 0.041394,
     "end_time": "2024-12-09T02:35:58.993745",
     "exception": false,
     "start_time": "2024-12-09T02:35:58.952351",
     "status": "completed"
    },
    "tags": []
   },
   "outputs": [],
   "source": [
    "news_dict={'Magazin':0,'Siyaset':1,'Sağlık':2,'Spor':3,'Kültür-Sanat':4,'Turizm':5,'Finans-Ekonomi':6,'Bilim-Teknoloji':7,'Çevre':8} \n",
    "dn[\"sinif\"]=dn[\"sinif\"].map(news_dict)\n"
   ]
  },
  {
   "cell_type": "code",
   "execution_count": 15,
   "id": "335b66a1",
   "metadata": {
    "execution": {
     "iopub.execute_input": "2024-12-09T02:35:59.015928Z",
     "iopub.status.busy": "2024-12-09T02:35:59.015524Z",
     "iopub.status.idle": "2024-12-09T02:36:00.321196Z",
     "shell.execute_reply": "2024-12-09T02:36:00.320080Z"
    },
    "papermill": {
     "duration": 1.319395,
     "end_time": "2024-12-09T02:36:00.323494",
     "exception": false,
     "start_time": "2024-12-09T02:35:59.004099",
     "status": "completed"
    },
    "tags": []
   },
   "outputs": [],
   "source": [
    "df[\"sinif\"]=df[\"sinif\"].map(news_dict)"
   ]
  },
  {
   "cell_type": "code",
   "execution_count": 16,
   "id": "7437a428",
   "metadata": {
    "execution": {
     "iopub.execute_input": "2024-12-09T02:36:00.348579Z",
     "iopub.status.busy": "2024-12-09T02:36:00.348164Z",
     "iopub.status.idle": "2024-12-09T02:36:08.000938Z",
     "shell.execute_reply": "2024-12-09T02:36:07.999910Z"
    },
    "papermill": {
     "duration": 7.667798,
     "end_time": "2024-12-09T02:36:08.003523",
     "exception": false,
     "start_time": "2024-12-09T02:36:00.335725",
     "status": "completed"
    },
    "tags": []
   },
   "outputs": [],
   "source": [
    "def convert_to_string(s):\n",
    "    s = s.strip('[]')  \n",
    "    s = s.replace('...', '')  \n",
    "    return ' '.join(s.split(',')) \n",
    "\n",
    "dn['haber'] = dn['haber'].apply(convert_to_string)"
   ]
  },
  {
   "cell_type": "code",
   "execution_count": 17,
   "id": "edfc247d",
   "metadata": {
    "execution": {
     "iopub.execute_input": "2024-12-09T02:36:08.027984Z",
     "iopub.status.busy": "2024-12-09T02:36:08.027589Z",
     "iopub.status.idle": "2024-12-09T02:36:18.150108Z",
     "shell.execute_reply": "2024-12-09T02:36:18.149062Z"
    },
    "papermill": {
     "duration": 10.140114,
     "end_time": "2024-12-09T02:36:18.155833",
     "exception": false,
     "start_time": "2024-12-09T02:36:08.015719",
     "status": "completed"
    },
    "tags": []
   },
   "outputs": [],
   "source": [
    "dn['haber'] = dn['haber'].apply(lambda x: ' '.join(x.replace(\"'\", \"\").split()))"
   ]
  },
  {
   "cell_type": "code",
   "execution_count": 18,
   "id": "98a5dd73",
   "metadata": {
    "execution": {
     "iopub.execute_input": "2024-12-09T02:36:18.259451Z",
     "iopub.status.busy": "2024-12-09T02:36:18.258990Z",
     "iopub.status.idle": "2024-12-09T02:36:18.276068Z",
     "shell.execute_reply": "2024-12-09T02:36:18.274560Z"
    },
    "papermill": {
     "duration": 0.112341,
     "end_time": "2024-12-09T02:36:18.278764",
     "exception": false,
     "start_time": "2024-12-09T02:36:18.166423",
     "status": "completed"
    },
    "tags": []
   },
   "outputs": [
    {
     "data": {
      "text/html": [
       "<div>\n",
       "<style scoped>\n",
       "    .dataframe tbody tr th:only-of-type {\n",
       "        vertical-align: middle;\n",
       "    }\n",
       "\n",
       "    .dataframe tbody tr th {\n",
       "        vertical-align: top;\n",
       "    }\n",
       "\n",
       "    .dataframe thead th {\n",
       "        text-align: right;\n",
       "    }\n",
       "</style>\n",
       "<table border=\"1\" class=\"dataframe\">\n",
       "  <thead>\n",
       "    <tr style=\"text-align: right;\">\n",
       "      <th></th>\n",
       "      <th>Unnamed: 0</th>\n",
       "      <th>words</th>\n",
       "      <th>haber</th>\n",
       "      <th>sinif</th>\n",
       "    </tr>\n",
       "  </thead>\n",
       "  <tbody>\n",
       "    <tr>\n",
       "      <th>0</th>\n",
       "      <td>0</td>\n",
       "      <td>138</td>\n",
       "      <td>gore ek saldiris tutuklu kaynaklana tehlike ka...</td>\n",
       "      <td>1</td>\n",
       "    </tr>\n",
       "    <tr>\n",
       "      <th>1</th>\n",
       "      <td>1</td>\n",
       "      <td>138</td>\n",
       "      <td>katilimci demokras sivil topl siyaset kurum me...</td>\n",
       "      <td>1</td>\n",
       "    </tr>\n",
       "    <tr>\n",
       "      <th>2</th>\n",
       "      <td>2</td>\n",
       "      <td>135</td>\n",
       "      <td>tarih ibret alinmadigi takdir ye aci ye dram y...</td>\n",
       "      <td>1</td>\n",
       "    </tr>\n",
       "    <tr>\n",
       "      <th>3</th>\n",
       "      <td>3</td>\n",
       "      <td>126</td>\n",
       "      <td>y sozde helallesme yolculugu cikila tutarsizli...</td>\n",
       "      <td>1</td>\n",
       "    </tr>\n",
       "    <tr>\n",
       "      <th>4</th>\n",
       "      <td>4</td>\n",
       "      <td>127</td>\n",
       "      <td>hukumet varligi hikmet kaybetmis diyor ac doya...</td>\n",
       "      <td>1</td>\n",
       "    </tr>\n",
       "    <tr>\n",
       "      <th>...</th>\n",
       "      <td>...</td>\n",
       "      <td>...</td>\n",
       "      <td>...</td>\n",
       "      <td>...</td>\n",
       "    </tr>\n",
       "    <tr>\n",
       "      <th>280671</th>\n",
       "      <td>280671</td>\n",
       "      <td>132</td>\n",
       "      <td>cevre sehircilik ikl degisikligi bakani mehmet...</td>\n",
       "      <td>8</td>\n",
       "    </tr>\n",
       "    <tr>\n",
       "      <th>280672</th>\n",
       "      <td>280672</td>\n",
       "      <td>127</td>\n",
       "      <td>i orta ko arastirma cogunluk ekonomik sosyal p...</td>\n",
       "      <td>8</td>\n",
       "    </tr>\n",
       "    <tr>\n",
       "      <th>280673</th>\n",
       "      <td>280673</td>\n",
       "      <td>127</td>\n",
       "      <td>hakk uluslararasi ortak bas bildiri yayimladı ...</td>\n",
       "      <td>8</td>\n",
       "    </tr>\n",
       "    <tr>\n",
       "      <th>280674</th>\n",
       "      <td>280674</td>\n",
       "      <td>136</td>\n",
       "      <td>avza kor eyle plan acik sekil havza kati atik ...</td>\n",
       "      <td>8</td>\n",
       "    </tr>\n",
       "    <tr>\n",
       "      <th>280675</th>\n",
       "      <td>280675</td>\n",
       "      <td>221</td>\n",
       "      <td>pg it hackatho istanbul avrup kent yapilacakte...</td>\n",
       "      <td>8</td>\n",
       "    </tr>\n",
       "  </tbody>\n",
       "</table>\n",
       "<p>280676 rows × 4 columns</p>\n",
       "</div>"
      ],
      "text/plain": [
       "        Unnamed: 0  words                                              haber  \\\n",
       "0                0    138  gore ek saldiris tutuklu kaynaklana tehlike ka...   \n",
       "1                1    138  katilimci demokras sivil topl siyaset kurum me...   \n",
       "2                2    135  tarih ibret alinmadigi takdir ye aci ye dram y...   \n",
       "3                3    126  y sozde helallesme yolculugu cikila tutarsizli...   \n",
       "4                4    127  hukumet varligi hikmet kaybetmis diyor ac doya...   \n",
       "...            ...    ...                                                ...   \n",
       "280671      280671    132  cevre sehircilik ikl degisikligi bakani mehmet...   \n",
       "280672      280672    127  i orta ko arastirma cogunluk ekonomik sosyal p...   \n",
       "280673      280673    127  hakk uluslararasi ortak bas bildiri yayimladı ...   \n",
       "280674      280674    136  avza kor eyle plan acik sekil havza kati atik ...   \n",
       "280675      280675    221  pg it hackatho istanbul avrup kent yapilacakte...   \n",
       "\n",
       "        sinif  \n",
       "0           1  \n",
       "1           1  \n",
       "2           1  \n",
       "3           1  \n",
       "4           1  \n",
       "...       ...  \n",
       "280671      8  \n",
       "280672      8  \n",
       "280673      8  \n",
       "280674      8  \n",
       "280675      8  \n",
       "\n",
       "[280676 rows x 4 columns]"
      ]
     },
     "execution_count": 18,
     "metadata": {},
     "output_type": "execute_result"
    }
   ],
   "source": [
    "dn"
   ]
  },
  {
   "cell_type": "code",
   "execution_count": 19,
   "id": "b3a38aad",
   "metadata": {
    "execution": {
     "iopub.execute_input": "2024-12-09T02:36:18.302484Z",
     "iopub.status.busy": "2024-12-09T02:36:18.302071Z",
     "iopub.status.idle": "2024-12-09T02:36:18.887526Z",
     "shell.execute_reply": "2024-12-09T02:36:18.886077Z"
    },
    "papermill": {
     "duration": 0.600347,
     "end_time": "2024-12-09T02:36:18.890018",
     "exception": false,
     "start_time": "2024-12-09T02:36:18.289671",
     "status": "completed"
    },
    "tags": []
   },
   "outputs": [],
   "source": [
    "XX = df[\"haber\"]\n",
    "yy = df[\"sinif\"]\n",
    "\n",
    "XX_train, XX_test, yy_train, yy_test = train_test_split(XX, yy, test_size=0.3, random_state=42)"
   ]
  },
  {
   "cell_type": "code",
   "execution_count": 20,
   "id": "605a5587",
   "metadata": {
    "execution": {
     "iopub.execute_input": "2024-12-09T02:36:18.913793Z",
     "iopub.status.busy": "2024-12-09T02:36:18.913381Z",
     "iopub.status.idle": "2024-12-09T02:36:18.975297Z",
     "shell.execute_reply": "2024-12-09T02:36:18.973975Z"
    },
    "papermill": {
     "duration": 0.076886,
     "end_time": "2024-12-09T02:36:18.977660",
     "exception": false,
     "start_time": "2024-12-09T02:36:18.900774",
     "status": "completed"
    },
    "tags": []
   },
   "outputs": [],
   "source": [
    "X = dn[\"haber\"]\n",
    "y = dn[\"sinif\"]\n",
    "\n",
    "X_train, X_test, y_train, y_test = train_test_split(X, y, test_size=0.3, random_state=42)"
   ]
  },
  {
   "cell_type": "markdown",
   "id": "e893a83a",
   "metadata": {
    "papermill": {
     "duration": 0.010604,
     "end_time": "2024-12-09T02:36:18.999111",
     "exception": false,
     "start_time": "2024-12-09T02:36:18.988507",
     "status": "completed"
    },
    "tags": []
   },
   "source": [
    "## Count Vectorizer"
   ]
  },
  {
   "cell_type": "code",
   "execution_count": 21,
   "id": "a41a488f",
   "metadata": {
    "execution": {
     "iopub.execute_input": "2024-12-09T02:36:19.022459Z",
     "iopub.status.busy": "2024-12-09T02:36:19.022016Z",
     "iopub.status.idle": "2024-12-09T02:37:02.963307Z",
     "shell.execute_reply": "2024-12-09T02:37:02.962152Z"
    },
    "papermill": {
     "duration": 43.96654,
     "end_time": "2024-12-09T02:37:02.976474",
     "exception": false,
     "start_time": "2024-12-09T02:36:19.009934",
     "status": "completed"
    },
    "tags": []
   },
   "outputs": [
    {
     "data": {
      "text/html": [
       "<style>#sk-container-id-1 {color: black;background-color: white;}#sk-container-id-1 pre{padding: 0;}#sk-container-id-1 div.sk-toggleable {background-color: white;}#sk-container-id-1 label.sk-toggleable__label {cursor: pointer;display: block;width: 100%;margin-bottom: 0;padding: 0.3em;box-sizing: border-box;text-align: center;}#sk-container-id-1 label.sk-toggleable__label-arrow:before {content: \"▸\";float: left;margin-right: 0.25em;color: #696969;}#sk-container-id-1 label.sk-toggleable__label-arrow:hover:before {color: black;}#sk-container-id-1 div.sk-estimator:hover label.sk-toggleable__label-arrow:before {color: black;}#sk-container-id-1 div.sk-toggleable__content {max-height: 0;max-width: 0;overflow: hidden;text-align: left;background-color: #f0f8ff;}#sk-container-id-1 div.sk-toggleable__content pre {margin: 0.2em;color: black;border-radius: 0.25em;background-color: #f0f8ff;}#sk-container-id-1 input.sk-toggleable__control:checked~div.sk-toggleable__content {max-height: 200px;max-width: 100%;overflow: auto;}#sk-container-id-1 input.sk-toggleable__control:checked~label.sk-toggleable__label-arrow:before {content: \"▾\";}#sk-container-id-1 div.sk-estimator input.sk-toggleable__control:checked~label.sk-toggleable__label {background-color: #d4ebff;}#sk-container-id-1 div.sk-label input.sk-toggleable__control:checked~label.sk-toggleable__label {background-color: #d4ebff;}#sk-container-id-1 input.sk-hidden--visually {border: 0;clip: rect(1px 1px 1px 1px);clip: rect(1px, 1px, 1px, 1px);height: 1px;margin: -1px;overflow: hidden;padding: 0;position: absolute;width: 1px;}#sk-container-id-1 div.sk-estimator {font-family: monospace;background-color: #f0f8ff;border: 1px dotted black;border-radius: 0.25em;box-sizing: border-box;margin-bottom: 0.5em;}#sk-container-id-1 div.sk-estimator:hover {background-color: #d4ebff;}#sk-container-id-1 div.sk-parallel-item::after {content: \"\";width: 100%;border-bottom: 1px solid gray;flex-grow: 1;}#sk-container-id-1 div.sk-label:hover label.sk-toggleable__label {background-color: #d4ebff;}#sk-container-id-1 div.sk-serial::before {content: \"\";position: absolute;border-left: 1px solid gray;box-sizing: border-box;top: 0;bottom: 0;left: 50%;z-index: 0;}#sk-container-id-1 div.sk-serial {display: flex;flex-direction: column;align-items: center;background-color: white;padding-right: 0.2em;padding-left: 0.2em;position: relative;}#sk-container-id-1 div.sk-item {position: relative;z-index: 1;}#sk-container-id-1 div.sk-parallel {display: flex;align-items: stretch;justify-content: center;background-color: white;position: relative;}#sk-container-id-1 div.sk-item::before, #sk-container-id-1 div.sk-parallel-item::before {content: \"\";position: absolute;border-left: 1px solid gray;box-sizing: border-box;top: 0;bottom: 0;left: 50%;z-index: -1;}#sk-container-id-1 div.sk-parallel-item {display: flex;flex-direction: column;z-index: 1;position: relative;background-color: white;}#sk-container-id-1 div.sk-parallel-item:first-child::after {align-self: flex-end;width: 50%;}#sk-container-id-1 div.sk-parallel-item:last-child::after {align-self: flex-start;width: 50%;}#sk-container-id-1 div.sk-parallel-item:only-child::after {width: 0;}#sk-container-id-1 div.sk-dashed-wrapped {border: 1px dashed gray;margin: 0 0.4em 0.5em 0.4em;box-sizing: border-box;padding-bottom: 0.4em;background-color: white;}#sk-container-id-1 div.sk-label label {font-family: monospace;font-weight: bold;display: inline-block;line-height: 1.2em;}#sk-container-id-1 div.sk-label-container {text-align: center;}#sk-container-id-1 div.sk-container {/* jupyter's `normalize.less` sets `[hidden] { display: none; }` but bootstrap.min.css set `[hidden] { display: none !important; }` so we also need the `!important` here to be able to override the default hidden behavior on the sphinx rendered scikit-learn.org. See: https://github.com/scikit-learn/scikit-learn/issues/21755 */display: inline-block !important;position: relative;}#sk-container-id-1 div.sk-text-repr-fallback {display: none;}</style><div id=\"sk-container-id-1\" class=\"sk-top-container\"><div class=\"sk-text-repr-fallback\"><pre>CountVectorizer()</pre><b>In a Jupyter environment, please rerun this cell to show the HTML representation or trust the notebook. <br />On GitHub, the HTML representation is unable to render, please try loading this page with nbviewer.org.</b></div><div class=\"sk-container\" hidden><div class=\"sk-item\"><div class=\"sk-estimator sk-toggleable\"><input class=\"sk-toggleable__control sk-hidden--visually\" id=\"sk-estimator-id-1\" type=\"checkbox\" checked><label for=\"sk-estimator-id-1\" class=\"sk-toggleable__label sk-toggleable__label-arrow\">CountVectorizer</label><div class=\"sk-toggleable__content\"><pre>CountVectorizer()</pre></div></div></div></div></div>"
      ],
      "text/plain": [
       "CountVectorizer()"
      ]
     },
     "execution_count": 21,
     "metadata": {},
     "output_type": "execute_result"
    }
   ],
   "source": [
    "from sklearn.feature_extraction.text import CountVectorizer\n",
    "\n",
    "count_vectorizerr = CountVectorizer()\n",
    "count_vectorizerr.fit(XX_train)"
   ]
  },
  {
   "cell_type": "code",
   "execution_count": 22,
   "id": "c7b17a38",
   "metadata": {
    "execution": {
     "iopub.execute_input": "2024-12-09T02:37:02.999956Z",
     "iopub.status.busy": "2024-12-09T02:37:02.999570Z",
     "iopub.status.idle": "2024-12-09T02:37:59.301581Z",
     "shell.execute_reply": "2024-12-09T02:37:59.300378Z"
    },
    "papermill": {
     "duration": 56.31677,
     "end_time": "2024-12-09T02:37:59.304123",
     "exception": false,
     "start_time": "2024-12-09T02:37:02.987353",
     "status": "completed"
    },
    "tags": []
   },
   "outputs": [],
   "source": [
    "XX_train_count = count_vectorizerr.transform(XX_train)\n",
    "XX_test_count = count_vectorizerr.transform(XX_test)"
   ]
  },
  {
   "cell_type": "code",
   "execution_count": 23,
   "id": "5a20eaf1",
   "metadata": {
    "execution": {
     "iopub.execute_input": "2024-12-09T02:37:59.329792Z",
     "iopub.status.busy": "2024-12-09T02:37:59.329357Z",
     "iopub.status.idle": "2024-12-09T02:38:45.874551Z",
     "shell.execute_reply": "2024-12-09T02:38:45.873371Z"
    },
    "papermill": {
     "duration": 46.571883,
     "end_time": "2024-12-09T02:38:45.887271",
     "exception": false,
     "start_time": "2024-12-09T02:37:59.315388",
     "status": "completed"
    },
    "tags": []
   },
   "outputs": [
    {
     "data": {
      "text/html": [
       "<style>#sk-container-id-2 {color: black;background-color: white;}#sk-container-id-2 pre{padding: 0;}#sk-container-id-2 div.sk-toggleable {background-color: white;}#sk-container-id-2 label.sk-toggleable__label {cursor: pointer;display: block;width: 100%;margin-bottom: 0;padding: 0.3em;box-sizing: border-box;text-align: center;}#sk-container-id-2 label.sk-toggleable__label-arrow:before {content: \"▸\";float: left;margin-right: 0.25em;color: #696969;}#sk-container-id-2 label.sk-toggleable__label-arrow:hover:before {color: black;}#sk-container-id-2 div.sk-estimator:hover label.sk-toggleable__label-arrow:before {color: black;}#sk-container-id-2 div.sk-toggleable__content {max-height: 0;max-width: 0;overflow: hidden;text-align: left;background-color: #f0f8ff;}#sk-container-id-2 div.sk-toggleable__content pre {margin: 0.2em;color: black;border-radius: 0.25em;background-color: #f0f8ff;}#sk-container-id-2 input.sk-toggleable__control:checked~div.sk-toggleable__content {max-height: 200px;max-width: 100%;overflow: auto;}#sk-container-id-2 input.sk-toggleable__control:checked~label.sk-toggleable__label-arrow:before {content: \"▾\";}#sk-container-id-2 div.sk-estimator input.sk-toggleable__control:checked~label.sk-toggleable__label {background-color: #d4ebff;}#sk-container-id-2 div.sk-label input.sk-toggleable__control:checked~label.sk-toggleable__label {background-color: #d4ebff;}#sk-container-id-2 input.sk-hidden--visually {border: 0;clip: rect(1px 1px 1px 1px);clip: rect(1px, 1px, 1px, 1px);height: 1px;margin: -1px;overflow: hidden;padding: 0;position: absolute;width: 1px;}#sk-container-id-2 div.sk-estimator {font-family: monospace;background-color: #f0f8ff;border: 1px dotted black;border-radius: 0.25em;box-sizing: border-box;margin-bottom: 0.5em;}#sk-container-id-2 div.sk-estimator:hover {background-color: #d4ebff;}#sk-container-id-2 div.sk-parallel-item::after {content: \"\";width: 100%;border-bottom: 1px solid gray;flex-grow: 1;}#sk-container-id-2 div.sk-label:hover label.sk-toggleable__label {background-color: #d4ebff;}#sk-container-id-2 div.sk-serial::before {content: \"\";position: absolute;border-left: 1px solid gray;box-sizing: border-box;top: 0;bottom: 0;left: 50%;z-index: 0;}#sk-container-id-2 div.sk-serial {display: flex;flex-direction: column;align-items: center;background-color: white;padding-right: 0.2em;padding-left: 0.2em;position: relative;}#sk-container-id-2 div.sk-item {position: relative;z-index: 1;}#sk-container-id-2 div.sk-parallel {display: flex;align-items: stretch;justify-content: center;background-color: white;position: relative;}#sk-container-id-2 div.sk-item::before, #sk-container-id-2 div.sk-parallel-item::before {content: \"\";position: absolute;border-left: 1px solid gray;box-sizing: border-box;top: 0;bottom: 0;left: 50%;z-index: -1;}#sk-container-id-2 div.sk-parallel-item {display: flex;flex-direction: column;z-index: 1;position: relative;background-color: white;}#sk-container-id-2 div.sk-parallel-item:first-child::after {align-self: flex-end;width: 50%;}#sk-container-id-2 div.sk-parallel-item:last-child::after {align-self: flex-start;width: 50%;}#sk-container-id-2 div.sk-parallel-item:only-child::after {width: 0;}#sk-container-id-2 div.sk-dashed-wrapped {border: 1px dashed gray;margin: 0 0.4em 0.5em 0.4em;box-sizing: border-box;padding-bottom: 0.4em;background-color: white;}#sk-container-id-2 div.sk-label label {font-family: monospace;font-weight: bold;display: inline-block;line-height: 1.2em;}#sk-container-id-2 div.sk-label-container {text-align: center;}#sk-container-id-2 div.sk-container {/* jupyter's `normalize.less` sets `[hidden] { display: none; }` but bootstrap.min.css set `[hidden] { display: none !important; }` so we also need the `!important` here to be able to override the default hidden behavior on the sphinx rendered scikit-learn.org. See: https://github.com/scikit-learn/scikit-learn/issues/21755 */display: inline-block !important;position: relative;}#sk-container-id-2 div.sk-text-repr-fallback {display: none;}</style><div id=\"sk-container-id-2\" class=\"sk-top-container\"><div class=\"sk-text-repr-fallback\"><pre>CountVectorizer()</pre><b>In a Jupyter environment, please rerun this cell to show the HTML representation or trust the notebook. <br />On GitHub, the HTML representation is unable to render, please try loading this page with nbviewer.org.</b></div><div class=\"sk-container\" hidden><div class=\"sk-item\"><div class=\"sk-estimator sk-toggleable\"><input class=\"sk-toggleable__control sk-hidden--visually\" id=\"sk-estimator-id-2\" type=\"checkbox\" checked><label for=\"sk-estimator-id-2\" class=\"sk-toggleable__label sk-toggleable__label-arrow\">CountVectorizer</label><div class=\"sk-toggleable__content\"><pre>CountVectorizer()</pre></div></div></div></div></div>"
      ],
      "text/plain": [
       "CountVectorizer()"
      ]
     },
     "execution_count": 23,
     "metadata": {},
     "output_type": "execute_result"
    }
   ],
   "source": [
    "from sklearn.feature_extraction.text import CountVectorizer\n",
    "\n",
    "count_vectorizer = CountVectorizer()\n",
    "count_vectorizer.fit(X_train)"
   ]
  },
  {
   "cell_type": "code",
   "execution_count": 24,
   "id": "d60dec09",
   "metadata": {
    "execution": {
     "iopub.execute_input": "2024-12-09T02:38:45.911953Z",
     "iopub.status.busy": "2024-12-09T02:38:45.911514Z",
     "iopub.status.idle": "2024-12-09T02:39:49.834989Z",
     "shell.execute_reply": "2024-12-09T02:39:49.833891Z"
    },
    "papermill": {
     "duration": 63.938809,
     "end_time": "2024-12-09T02:39:49.837485",
     "exception": false,
     "start_time": "2024-12-09T02:38:45.898676",
     "status": "completed"
    },
    "tags": []
   },
   "outputs": [],
   "source": [
    "X_train_count = count_vectorizer.transform(X_train)\n",
    "X_test_count = count_vectorizer.transform(X_test)"
   ]
  },
  {
   "cell_type": "markdown",
   "id": "891c07db",
   "metadata": {
    "papermill": {
     "duration": 0.010862,
     "end_time": "2024-12-09T02:39:49.859829",
     "exception": false,
     "start_time": "2024-12-09T02:39:49.848967",
     "status": "completed"
    },
    "tags": []
   },
   "source": [
    "## TF-IDF"
   ]
  },
  {
   "cell_type": "code",
   "execution_count": 25,
   "id": "4914650d",
   "metadata": {
    "execution": {
     "iopub.execute_input": "2024-12-09T02:39:49.883631Z",
     "iopub.status.busy": "2024-12-09T02:39:49.883224Z",
     "iopub.status.idle": "2024-12-09T02:40:36.238846Z",
     "shell.execute_reply": "2024-12-09T02:40:36.237723Z"
    },
    "papermill": {
     "duration": 46.381175,
     "end_time": "2024-12-09T02:40:36.252170",
     "exception": false,
     "start_time": "2024-12-09T02:39:49.870995",
     "status": "completed"
    },
    "tags": []
   },
   "outputs": [
    {
     "data": {
      "text/html": [
       "<style>#sk-container-id-3 {color: black;background-color: white;}#sk-container-id-3 pre{padding: 0;}#sk-container-id-3 div.sk-toggleable {background-color: white;}#sk-container-id-3 label.sk-toggleable__label {cursor: pointer;display: block;width: 100%;margin-bottom: 0;padding: 0.3em;box-sizing: border-box;text-align: center;}#sk-container-id-3 label.sk-toggleable__label-arrow:before {content: \"▸\";float: left;margin-right: 0.25em;color: #696969;}#sk-container-id-3 label.sk-toggleable__label-arrow:hover:before {color: black;}#sk-container-id-3 div.sk-estimator:hover label.sk-toggleable__label-arrow:before {color: black;}#sk-container-id-3 div.sk-toggleable__content {max-height: 0;max-width: 0;overflow: hidden;text-align: left;background-color: #f0f8ff;}#sk-container-id-3 div.sk-toggleable__content pre {margin: 0.2em;color: black;border-radius: 0.25em;background-color: #f0f8ff;}#sk-container-id-3 input.sk-toggleable__control:checked~div.sk-toggleable__content {max-height: 200px;max-width: 100%;overflow: auto;}#sk-container-id-3 input.sk-toggleable__control:checked~label.sk-toggleable__label-arrow:before {content: \"▾\";}#sk-container-id-3 div.sk-estimator input.sk-toggleable__control:checked~label.sk-toggleable__label {background-color: #d4ebff;}#sk-container-id-3 div.sk-label input.sk-toggleable__control:checked~label.sk-toggleable__label {background-color: #d4ebff;}#sk-container-id-3 input.sk-hidden--visually {border: 0;clip: rect(1px 1px 1px 1px);clip: rect(1px, 1px, 1px, 1px);height: 1px;margin: -1px;overflow: hidden;padding: 0;position: absolute;width: 1px;}#sk-container-id-3 div.sk-estimator {font-family: monospace;background-color: #f0f8ff;border: 1px dotted black;border-radius: 0.25em;box-sizing: border-box;margin-bottom: 0.5em;}#sk-container-id-3 div.sk-estimator:hover {background-color: #d4ebff;}#sk-container-id-3 div.sk-parallel-item::after {content: \"\";width: 100%;border-bottom: 1px solid gray;flex-grow: 1;}#sk-container-id-3 div.sk-label:hover label.sk-toggleable__label {background-color: #d4ebff;}#sk-container-id-3 div.sk-serial::before {content: \"\";position: absolute;border-left: 1px solid gray;box-sizing: border-box;top: 0;bottom: 0;left: 50%;z-index: 0;}#sk-container-id-3 div.sk-serial {display: flex;flex-direction: column;align-items: center;background-color: white;padding-right: 0.2em;padding-left: 0.2em;position: relative;}#sk-container-id-3 div.sk-item {position: relative;z-index: 1;}#sk-container-id-3 div.sk-parallel {display: flex;align-items: stretch;justify-content: center;background-color: white;position: relative;}#sk-container-id-3 div.sk-item::before, #sk-container-id-3 div.sk-parallel-item::before {content: \"\";position: absolute;border-left: 1px solid gray;box-sizing: border-box;top: 0;bottom: 0;left: 50%;z-index: -1;}#sk-container-id-3 div.sk-parallel-item {display: flex;flex-direction: column;z-index: 1;position: relative;background-color: white;}#sk-container-id-3 div.sk-parallel-item:first-child::after {align-self: flex-end;width: 50%;}#sk-container-id-3 div.sk-parallel-item:last-child::after {align-self: flex-start;width: 50%;}#sk-container-id-3 div.sk-parallel-item:only-child::after {width: 0;}#sk-container-id-3 div.sk-dashed-wrapped {border: 1px dashed gray;margin: 0 0.4em 0.5em 0.4em;box-sizing: border-box;padding-bottom: 0.4em;background-color: white;}#sk-container-id-3 div.sk-label label {font-family: monospace;font-weight: bold;display: inline-block;line-height: 1.2em;}#sk-container-id-3 div.sk-label-container {text-align: center;}#sk-container-id-3 div.sk-container {/* jupyter's `normalize.less` sets `[hidden] { display: none; }` but bootstrap.min.css set `[hidden] { display: none !important; }` so we also need the `!important` here to be able to override the default hidden behavior on the sphinx rendered scikit-learn.org. See: https://github.com/scikit-learn/scikit-learn/issues/21755 */display: inline-block !important;position: relative;}#sk-container-id-3 div.sk-text-repr-fallback {display: none;}</style><div id=\"sk-container-id-3\" class=\"sk-top-container\"><div class=\"sk-text-repr-fallback\"><pre>TfidfVectorizer()</pre><b>In a Jupyter environment, please rerun this cell to show the HTML representation or trust the notebook. <br />On GitHub, the HTML representation is unable to render, please try loading this page with nbviewer.org.</b></div><div class=\"sk-container\" hidden><div class=\"sk-item\"><div class=\"sk-estimator sk-toggleable\"><input class=\"sk-toggleable__control sk-hidden--visually\" id=\"sk-estimator-id-3\" type=\"checkbox\" checked><label for=\"sk-estimator-id-3\" class=\"sk-toggleable__label sk-toggleable__label-arrow\">TfidfVectorizer</label><div class=\"sk-toggleable__content\"><pre>TfidfVectorizer()</pre></div></div></div></div></div>"
      ],
      "text/plain": [
       "TfidfVectorizer()"
      ]
     },
     "execution_count": 25,
     "metadata": {},
     "output_type": "execute_result"
    }
   ],
   "source": [
    "from sklearn.feature_extraction.text import TfidfVectorizer\n",
    "\n",
    "tff_idf_vectorizer = TfidfVectorizer()\n",
    "tff_idf_vectorizer.fit(XX_train)"
   ]
  },
  {
   "cell_type": "code",
   "execution_count": 26,
   "id": "e2f0c231",
   "metadata": {
    "execution": {
     "iopub.execute_input": "2024-12-09T02:40:36.276881Z",
     "iopub.status.busy": "2024-12-09T02:40:36.275941Z",
     "iopub.status.idle": "2024-12-09T02:41:43.507870Z",
     "shell.execute_reply": "2024-12-09T02:41:43.506618Z"
    },
    "papermill": {
     "duration": 67.246838,
     "end_time": "2024-12-09T02:41:43.510290",
     "exception": false,
     "start_time": "2024-12-09T02:40:36.263452",
     "status": "completed"
    },
    "tags": []
   },
   "outputs": [],
   "source": [
    "XX_train_tf_idf = tff_idf_vectorizer.transform(XX_train)\n",
    "XX_test_tf_idf = tff_idf_vectorizer.transform(XX_test)"
   ]
  },
  {
   "cell_type": "code",
   "execution_count": 27,
   "id": "06c7e614",
   "metadata": {
    "execution": {
     "iopub.execute_input": "2024-12-09T02:41:43.535295Z",
     "iopub.status.busy": "2024-12-09T02:41:43.534913Z",
     "iopub.status.idle": "2024-12-09T02:42:30.291166Z",
     "shell.execute_reply": "2024-12-09T02:42:30.290258Z"
    },
    "papermill": {
     "duration": 46.782556,
     "end_time": "2024-12-09T02:42:30.304959",
     "exception": false,
     "start_time": "2024-12-09T02:41:43.522403",
     "status": "completed"
    },
    "tags": []
   },
   "outputs": [
    {
     "data": {
      "text/html": [
       "<style>#sk-container-id-4 {color: black;background-color: white;}#sk-container-id-4 pre{padding: 0;}#sk-container-id-4 div.sk-toggleable {background-color: white;}#sk-container-id-4 label.sk-toggleable__label {cursor: pointer;display: block;width: 100%;margin-bottom: 0;padding: 0.3em;box-sizing: border-box;text-align: center;}#sk-container-id-4 label.sk-toggleable__label-arrow:before {content: \"▸\";float: left;margin-right: 0.25em;color: #696969;}#sk-container-id-4 label.sk-toggleable__label-arrow:hover:before {color: black;}#sk-container-id-4 div.sk-estimator:hover label.sk-toggleable__label-arrow:before {color: black;}#sk-container-id-4 div.sk-toggleable__content {max-height: 0;max-width: 0;overflow: hidden;text-align: left;background-color: #f0f8ff;}#sk-container-id-4 div.sk-toggleable__content pre {margin: 0.2em;color: black;border-radius: 0.25em;background-color: #f0f8ff;}#sk-container-id-4 input.sk-toggleable__control:checked~div.sk-toggleable__content {max-height: 200px;max-width: 100%;overflow: auto;}#sk-container-id-4 input.sk-toggleable__control:checked~label.sk-toggleable__label-arrow:before {content: \"▾\";}#sk-container-id-4 div.sk-estimator input.sk-toggleable__control:checked~label.sk-toggleable__label {background-color: #d4ebff;}#sk-container-id-4 div.sk-label input.sk-toggleable__control:checked~label.sk-toggleable__label {background-color: #d4ebff;}#sk-container-id-4 input.sk-hidden--visually {border: 0;clip: rect(1px 1px 1px 1px);clip: rect(1px, 1px, 1px, 1px);height: 1px;margin: -1px;overflow: hidden;padding: 0;position: absolute;width: 1px;}#sk-container-id-4 div.sk-estimator {font-family: monospace;background-color: #f0f8ff;border: 1px dotted black;border-radius: 0.25em;box-sizing: border-box;margin-bottom: 0.5em;}#sk-container-id-4 div.sk-estimator:hover {background-color: #d4ebff;}#sk-container-id-4 div.sk-parallel-item::after {content: \"\";width: 100%;border-bottom: 1px solid gray;flex-grow: 1;}#sk-container-id-4 div.sk-label:hover label.sk-toggleable__label {background-color: #d4ebff;}#sk-container-id-4 div.sk-serial::before {content: \"\";position: absolute;border-left: 1px solid gray;box-sizing: border-box;top: 0;bottom: 0;left: 50%;z-index: 0;}#sk-container-id-4 div.sk-serial {display: flex;flex-direction: column;align-items: center;background-color: white;padding-right: 0.2em;padding-left: 0.2em;position: relative;}#sk-container-id-4 div.sk-item {position: relative;z-index: 1;}#sk-container-id-4 div.sk-parallel {display: flex;align-items: stretch;justify-content: center;background-color: white;position: relative;}#sk-container-id-4 div.sk-item::before, #sk-container-id-4 div.sk-parallel-item::before {content: \"\";position: absolute;border-left: 1px solid gray;box-sizing: border-box;top: 0;bottom: 0;left: 50%;z-index: -1;}#sk-container-id-4 div.sk-parallel-item {display: flex;flex-direction: column;z-index: 1;position: relative;background-color: white;}#sk-container-id-4 div.sk-parallel-item:first-child::after {align-self: flex-end;width: 50%;}#sk-container-id-4 div.sk-parallel-item:last-child::after {align-self: flex-start;width: 50%;}#sk-container-id-4 div.sk-parallel-item:only-child::after {width: 0;}#sk-container-id-4 div.sk-dashed-wrapped {border: 1px dashed gray;margin: 0 0.4em 0.5em 0.4em;box-sizing: border-box;padding-bottom: 0.4em;background-color: white;}#sk-container-id-4 div.sk-label label {font-family: monospace;font-weight: bold;display: inline-block;line-height: 1.2em;}#sk-container-id-4 div.sk-label-container {text-align: center;}#sk-container-id-4 div.sk-container {/* jupyter's `normalize.less` sets `[hidden] { display: none; }` but bootstrap.min.css set `[hidden] { display: none !important; }` so we also need the `!important` here to be able to override the default hidden behavior on the sphinx rendered scikit-learn.org. See: https://github.com/scikit-learn/scikit-learn/issues/21755 */display: inline-block !important;position: relative;}#sk-container-id-4 div.sk-text-repr-fallback {display: none;}</style><div id=\"sk-container-id-4\" class=\"sk-top-container\"><div class=\"sk-text-repr-fallback\"><pre>TfidfVectorizer()</pre><b>In a Jupyter environment, please rerun this cell to show the HTML representation or trust the notebook. <br />On GitHub, the HTML representation is unable to render, please try loading this page with nbviewer.org.</b></div><div class=\"sk-container\" hidden><div class=\"sk-item\"><div class=\"sk-estimator sk-toggleable\"><input class=\"sk-toggleable__control sk-hidden--visually\" id=\"sk-estimator-id-4\" type=\"checkbox\" checked><label for=\"sk-estimator-id-4\" class=\"sk-toggleable__label sk-toggleable__label-arrow\">TfidfVectorizer</label><div class=\"sk-toggleable__content\"><pre>TfidfVectorizer()</pre></div></div></div></div></div>"
      ],
      "text/plain": [
       "TfidfVectorizer()"
      ]
     },
     "execution_count": 27,
     "metadata": {},
     "output_type": "execute_result"
    }
   ],
   "source": [
    "from sklearn.feature_extraction.text import TfidfVectorizer\n",
    "\n",
    "tf_idf_vectorizer = TfidfVectorizer()\n",
    "tf_idf_vectorizer.fit(X_train)"
   ]
  },
  {
   "cell_type": "code",
   "execution_count": 28,
   "id": "0d224dff",
   "metadata": {
    "execution": {
     "iopub.execute_input": "2024-12-09T02:42:30.329855Z",
     "iopub.status.busy": "2024-12-09T02:42:30.329353Z",
     "iopub.status.idle": "2024-12-09T02:43:39.786763Z",
     "shell.execute_reply": "2024-12-09T02:43:39.785610Z"
    },
    "papermill": {
     "duration": 69.472932,
     "end_time": "2024-12-09T02:43:39.789347",
     "exception": false,
     "start_time": "2024-12-09T02:42:30.316415",
     "status": "completed"
    },
    "tags": []
   },
   "outputs": [],
   "source": [
    "X_train_tf_idf = tf_idf_vectorizer.transform(X_train)\n",
    "X_test_tf_idf = tf_idf_vectorizer.transform(X_test)"
   ]
  },
  {
   "cell_type": "markdown",
   "id": "a8b83487",
   "metadata": {
    "papermill": {
     "duration": 0.011644,
     "end_time": "2024-12-09T02:43:39.813536",
     "exception": false,
     "start_time": "2024-12-09T02:43:39.801892",
     "status": "completed"
    },
    "tags": []
   },
   "source": [
    "# **Models**"
   ]
  },
  {
   "cell_type": "markdown",
   "id": "997cfaa4",
   "metadata": {
    "papermill": {
     "duration": 0.011327,
     "end_time": "2024-12-09T02:43:39.836305",
     "exception": false,
     "start_time": "2024-12-09T02:43:39.824978",
     "status": "completed"
    },
    "tags": []
   },
   "source": [
    "## **XGBoost**"
   ]
  },
  {
   "cell_type": "markdown",
   "id": "d22906e0",
   "metadata": {
    "papermill": {
     "duration": 0.011281,
     "end_time": "2024-12-09T02:43:39.859123",
     "exception": false,
     "start_time": "2024-12-09T02:43:39.847842",
     "status": "completed"
    },
    "tags": []
   },
   "source": [
    "## Count Vectorizer"
   ]
  },
  {
   "cell_type": "code",
   "execution_count": 29,
   "id": "85794729",
   "metadata": {
    "execution": {
     "iopub.execute_input": "2024-12-09T02:43:39.884014Z",
     "iopub.status.busy": "2024-12-09T02:43:39.883564Z",
     "iopub.status.idle": "2024-12-09T02:43:52.328625Z",
     "shell.execute_reply": "2024-12-09T02:43:52.327267Z"
    },
    "papermill": {
     "duration": 12.460665,
     "end_time": "2024-12-09T02:43:52.331299",
     "exception": false,
     "start_time": "2024-12-09T02:43:39.870634",
     "status": "completed"
    },
    "tags": []
   },
   "outputs": [
    {
     "name": "stdout",
     "output_type": "stream",
     "text": [
      "Requirement already satisfied: xgboost in /opt/conda/lib/python3.10/site-packages (2.0.3)\r\n",
      "Requirement already satisfied: numpy in /opt/conda/lib/python3.10/site-packages (from xgboost) (1.26.4)\r\n",
      "Requirement already satisfied: scipy in /opt/conda/lib/python3.10/site-packages (from xgboost) (1.14.1)\r\n"
     ]
    }
   ],
   "source": [
    "!pip install xgboost"
   ]
  },
  {
   "cell_type": "code",
   "execution_count": 30,
   "id": "6b5f8489",
   "metadata": {
    "execution": {
     "iopub.execute_input": "2024-12-09T02:43:52.357716Z",
     "iopub.status.busy": "2024-12-09T02:43:52.357273Z",
     "iopub.status.idle": "2024-12-09T02:52:59.017215Z",
     "shell.execute_reply": "2024-12-09T02:52:59.015964Z"
    },
    "papermill": {
     "duration": 546.676467,
     "end_time": "2024-12-09T02:52:59.019966",
     "exception": false,
     "start_time": "2024-12-09T02:43:52.343499",
     "status": "completed"
    },
    "tags": []
   },
   "outputs": [
    {
     "name": "stderr",
     "output_type": "stream",
     "text": [
      "/opt/conda/lib/python3.10/site-packages/xgboost/core.py:160: UserWarning: [02:43:53] WARNING: /workspace/src/context.cc:44: No visible GPU is found, setting device to CPU.\n",
      "  warnings.warn(smsg, UserWarning)\n"
     ]
    }
   ],
   "source": [
    "import xgboost as xgb\n",
    "\n",
    "dtrain = xgb.DMatrix(X_train_count, label=y_train)\n",
    "dtest = xgb.DMatrix(X_test_count, label=y_test)\n",
    "\n",
    "\n",
    "params = {\n",
    "    'objective': 'multi:softmax',  \n",
    "    'tree_method': 'hist',  \n",
    "    'device': 'cuda',\n",
    "    'num_class': 9 \n",
    "}\n",
    "\n",
    "num_round = 50\n",
    "bstCV = xgb.train(params, dtrain, num_round)\n"
   ]
  },
  {
   "cell_type": "code",
   "execution_count": 31,
   "id": "9c923bc4",
   "metadata": {
    "execution": {
     "iopub.execute_input": "2024-12-09T02:52:59.047619Z",
     "iopub.status.busy": "2024-12-09T02:52:59.047193Z",
     "iopub.status.idle": "2024-12-09T02:53:04.842745Z",
     "shell.execute_reply": "2024-12-09T02:53:04.841917Z"
    },
    "papermill": {
     "duration": 5.813443,
     "end_time": "2024-12-09T02:53:04.845645",
     "exception": false,
     "start_time": "2024-12-09T02:52:59.032202",
     "status": "completed"
    },
    "tags": []
   },
   "outputs": [
    {
     "name": "stdout",
     "output_type": "stream",
     "text": [
      "XGBoost CV Accuracy: 0.8709547165777941\n"
     ]
    }
   ],
   "source": [
    "\n",
    "preds = bstCV.predict(dtest)\n",
    "\n",
    "\n",
    "accuracy = (preds == y_test).mean()\n",
    "print(\"XGBoost CV Accuracy:\", accuracy)"
   ]
  },
  {
   "cell_type": "code",
   "execution_count": 32,
   "id": "15a15e61",
   "metadata": {
    "execution": {
     "iopub.execute_input": "2024-12-09T02:53:04.874689Z",
     "iopub.status.busy": "2024-12-09T02:53:04.874246Z",
     "iopub.status.idle": "2024-12-09T02:53:05.162405Z",
     "shell.execute_reply": "2024-12-09T02:53:05.161142Z"
    },
    "papermill": {
     "duration": 0.30429,
     "end_time": "2024-12-09T02:53:05.164689",
     "exception": false,
     "start_time": "2024-12-09T02:53:04.860399",
     "status": "completed"
    },
    "tags": []
   },
   "outputs": [
    {
     "name": "stdout",
     "output_type": "stream",
     "text": [
      "XGBoost CV Classification Report:\n",
      "              precision    recall  f1-score   support\n",
      "\n",
      "           0       0.87      0.82      0.84      7653\n",
      "           1       0.80      0.82      0.81      7567\n",
      "           2       0.92      0.96      0.94     15350\n",
      "           3       0.97      0.96      0.97      7666\n",
      "           4       0.82      0.88      0.85     15253\n",
      "           5       0.87      0.80      0.83      7653\n",
      "           6       0.89      0.86      0.87      7807\n",
      "           7       0.90      0.89      0.89      7591\n",
      "           8       0.80      0.77      0.78      7663\n",
      "\n",
      "    accuracy                           0.87     84203\n",
      "   macro avg       0.87      0.86      0.86     84203\n",
      "weighted avg       0.87      0.87      0.87     84203\n",
      "\n"
     ]
    }
   ],
   "source": [
    "report = classification_report(y_test, preds)\n",
    "matrix = confusion_matrix(y_test, preds)\n",
    "\n",
    "print(\"XGBoost CV Classification Report:\")\n",
    "print(report)"
   ]
  },
  {
   "cell_type": "code",
   "execution_count": 33,
   "id": "11114729",
   "metadata": {
    "execution": {
     "iopub.execute_input": "2024-12-09T02:53:05.191336Z",
     "iopub.status.busy": "2024-12-09T02:53:05.190908Z",
     "iopub.status.idle": "2024-12-09T02:53:05.791922Z",
     "shell.execute_reply": "2024-12-09T02:53:05.790761Z"
    },
    "papermill": {
     "duration": 0.616989,
     "end_time": "2024-12-09T02:53:05.794028",
     "exception": false,
     "start_time": "2024-12-09T02:53:05.177039",
     "status": "completed"
    },
    "tags": []
   },
   "outputs": [
    {
     "data": {
      "image/png": "[encoded data removed]",
      "text/plain": [
       "<Figure size 1000x800 with 2 Axes>"
      ]
     },
     "metadata": {},
     "output_type": "display_data"
    }
   ],
   "source": [
    "import matplotlib.pyplot as plt\n",
    "import seaborn as sns\n",
    "\n",
    "\n",
    "plt.figure(figsize=(10, 8))\n",
    "sns.heatmap(matrix, annot=True, fmt=\"d\", cmap=\"Blues\")\n",
    "plt.title(\"XGBoost CV Confusion Matrix\")\n",
    "plt.xlabel(\"Predicted Label\")\n",
    "plt.ylabel(\"True Label\")\n",
    "plt.show()\n"
   ]
  },
  {
   "cell_type": "markdown",
   "id": "51540f27",
   "metadata": {
    "papermill": {
     "duration": 0.013525,
     "end_time": "2024-12-09T02:53:05.821575",
     "exception": false,
     "start_time": "2024-12-09T02:53:05.808050",
     "status": "completed"
    },
    "tags": []
   },
   "source": [
    "## Unstemmed Data"
   ]
  },
  {
   "cell_type": "code",
   "execution_count": 34,
   "id": "56ab9e3a",
   "metadata": {
    "execution": {
     "iopub.execute_input": "2024-12-09T02:53:05.850649Z",
     "iopub.status.busy": "2024-12-09T02:53:05.850210Z",
     "iopub.status.idle": "2024-12-09T03:06:26.371683Z",
     "shell.execute_reply": "2024-12-09T03:06:26.370467Z"
    },
    "papermill": {
     "duration": 800.539615,
     "end_time": "2024-12-09T03:06:26.374760",
     "exception": false,
     "start_time": "2024-12-09T02:53:05.835145",
     "status": "completed"
    },
    "tags": []
   },
   "outputs": [
    {
     "name": "stderr",
     "output_type": "stream",
     "text": [
      "/opt/conda/lib/python3.10/site-packages/xgboost/core.py:160: UserWarning: [02:53:06] WARNING: /workspace/src/context.cc:44: No visible GPU is found, setting device to CPU.\n",
      "  warnings.warn(smsg, UserWarning)\n"
     ]
    }
   ],
   "source": [
    "import xgboost as xgb\n",
    "\n",
    "ddtrain = xgb.DMatrix(XX_train_count, label=yy_train)\n",
    "ddtest = xgb.DMatrix(XX_test_count, label=yy_test)\n",
    "\n",
    "\n",
    "params = {\n",
    "    'objective': 'multi:softmax',  \n",
    "    'tree_method': 'hist',  \n",
    "    'device': 'cuda',\n",
    "    'num_class': 9 \n",
    "}\n",
    "\n",
    "num_round = 50\n",
    "UnbstCV = xgb.train(params, ddtrain, num_round)"
   ]
  },
  {
   "cell_type": "code",
   "execution_count": 35,
   "id": "8cd85237",
   "metadata": {
    "execution": {
     "iopub.execute_input": "2024-12-09T03:06:26.409427Z",
     "iopub.status.busy": "2024-12-09T03:06:26.408977Z",
     "iopub.status.idle": "2024-12-09T03:06:37.220130Z",
     "shell.execute_reply": "2024-12-09T03:06:37.219224Z"
    },
    "papermill": {
     "duration": 10.833086,
     "end_time": "2024-12-09T03:06:37.223131",
     "exception": false,
     "start_time": "2024-12-09T03:06:26.390045",
     "status": "completed"
    },
    "tags": []
   },
   "outputs": [
    {
     "name": "stdout",
     "output_type": "stream",
     "text": [
      "XGBoost with Unstemmed Data CV Accuracy: 0.857249741695664\n"
     ]
    }
   ],
   "source": [
    "preds = UnbstCV.predict(ddtest)\n",
    "\n",
    "\n",
    "accuracy = (preds == yy_test).mean()\n",
    "print(\"XGBoost with Unstemmed Data CV Accuracy:\", accuracy)"
   ]
  },
  {
   "cell_type": "code",
   "execution_count": 36,
   "id": "07e6d20f",
   "metadata": {
    "execution": {
     "iopub.execute_input": "2024-12-09T03:06:37.253412Z",
     "iopub.status.busy": "2024-12-09T03:06:37.252981Z",
     "iopub.status.idle": "2024-12-09T03:06:37.535216Z",
     "shell.execute_reply": "2024-12-09T03:06:37.533691Z"
    },
    "papermill": {
     "duration": 0.299813,
     "end_time": "2024-12-09T03:06:37.537675",
     "exception": false,
     "start_time": "2024-12-09T03:06:37.237862",
     "status": "completed"
    },
    "tags": []
   },
   "outputs": [
    {
     "name": "stdout",
     "output_type": "stream",
     "text": [
      "XGBoost with Unstemmed Data CV Accuracy Classification Report:\n",
      "              precision    recall  f1-score   support\n",
      "\n",
      "           0       0.86      0.80      0.83      7653\n",
      "           1       0.81      0.79      0.80      7567\n",
      "           2       0.91      0.95      0.93     15350\n",
      "           3       0.97      0.95      0.96      7666\n",
      "           4       0.77      0.88      0.82     15253\n",
      "           5       0.87      0.77      0.82      7653\n",
      "           6       0.88      0.84      0.86      7807\n",
      "           7       0.89      0.88      0.88      7591\n",
      "           8       0.80      0.74      0.77      7663\n",
      "\n",
      "    accuracy                           0.86     84203\n",
      "   macro avg       0.86      0.84      0.85     84203\n",
      "weighted avg       0.86      0.86      0.86     84203\n",
      "\n"
     ]
    }
   ],
   "source": [
    "report = classification_report(yy_test, preds)\n",
    "matrix = confusion_matrix(yy_test, preds)\n",
    "\n",
    "print(\"XGBoost with Unstemmed Data CV Accuracy Classification Report:\")\n",
    "print(report)"
   ]
  },
  {
   "cell_type": "code",
   "execution_count": 37,
   "id": "0d18a575",
   "metadata": {
    "execution": {
     "iopub.execute_input": "2024-12-09T03:06:37.567652Z",
     "iopub.status.busy": "2024-12-09T03:06:37.567206Z",
     "iopub.status.idle": "2024-12-09T03:06:43.621720Z",
     "shell.execute_reply": "2024-12-09T03:06:43.620525Z"
    },
    "papermill": {
     "duration": 6.073386,
     "end_time": "2024-12-09T03:06:43.625235",
     "exception": false,
     "start_time": "2024-12-09T03:06:37.551849",
     "status": "completed"
    },
    "tags": []
   },
   "outputs": [
    {
     "data": {
      "image/png": "[encoded data removed]",
      "text/plain": [
       "<Figure size 1000x800 with 2 Axes>"
      ]
     },
     "metadata": {},
     "output_type": "display_data"
    }
   ],
   "source": [
    "import matplotlib.pyplot as plt\n",
    "import seaborn as sns\n",
    "\n",
    "\n",
    "plt.figure(figsize=(10, 8))\n",
    "sns.heatmap(matrix, annot=True, fmt=\"d\", cmap=\"Blues\")\n",
    "plt.title(\"XGBoost with Unstemmed Data CV Confusion Matrix\")\n",
    "plt.xlabel(\"Predicted Label\")\n",
    "plt.ylabel(\"True Label\")\n",
    "plt.show()\n"
   ]
  },
  {
   "cell_type": "markdown",
   "id": "93e6427e",
   "metadata": {
    "papermill": {
     "duration": 0.019276,
     "end_time": "2024-12-09T03:06:43.670276",
     "exception": false,
     "start_time": "2024-12-09T03:06:43.651000",
     "status": "completed"
    },
    "tags": []
   },
   "source": [
    "## TF-IDF "
   ]
  },
  {
   "cell_type": "code",
   "execution_count": 38,
   "id": "478f5b82",
   "metadata": {
    "execution": {
     "iopub.execute_input": "2024-12-09T03:06:43.713137Z",
     "iopub.status.busy": "2024-12-09T03:06:43.712731Z",
     "iopub.status.idle": "2024-12-09T03:37:00.075677Z",
     "shell.execute_reply": "2024-12-09T03:37:00.073602Z"
    },
    "papermill": {
     "duration": 1816.390224,
     "end_time": "2024-12-09T03:37:00.081026",
     "exception": false,
     "start_time": "2024-12-09T03:06:43.690802",
     "status": "completed"
    },
    "tags": []
   },
   "outputs": [
    {
     "name": "stderr",
     "output_type": "stream",
     "text": [
      "/opt/conda/lib/python3.10/site-packages/xgboost/core.py:160: UserWarning: [03:06:45] WARNING: /workspace/src/context.cc:44: No visible GPU is found, setting device to CPU.\n",
      "  warnings.warn(smsg, UserWarning)\n"
     ]
    }
   ],
   "source": [
    "import xgboost as xgb\n",
    "\n",
    "dtrain = xgb.DMatrix(X_train_tf_idf, label=y_train)\n",
    "dtest = xgb.DMatrix(X_test_tf_idf, label=y_test)\n",
    "\n",
    "params = {\n",
    "    'objective': 'multi:softmax',  \n",
    "    'tree_method': 'hist',  \n",
    "    'device': 'cuda',\n",
    "    'num_class': 9 \n",
    "}\n",
    "\n",
    "num_round = 50\n",
    "bstTF = xgb.train(params, dtrain, num_round)"
   ]
  },
  {
   "cell_type": "code",
   "execution_count": 39,
   "id": "f31571a2",
   "metadata": {
    "execution": {
     "iopub.execute_input": "2024-12-09T03:37:00.126163Z",
     "iopub.status.busy": "2024-12-09T03:37:00.125630Z",
     "iopub.status.idle": "2024-12-09T03:37:06.036178Z",
     "shell.execute_reply": "2024-12-09T03:37:06.035271Z"
    },
    "papermill": {
     "duration": 5.940833,
     "end_time": "2024-12-09T03:37:06.041936",
     "exception": false,
     "start_time": "2024-12-09T03:37:00.101103",
     "status": "completed"
    },
    "tags": []
   },
   "outputs": [
    {
     "name": "stdout",
     "output_type": "stream",
     "text": [
      "XGBoost TF-IDF Accuracy: 0.8761801836039096\n"
     ]
    }
   ],
   "source": [
    "# Test setinde tahmin yapma\n",
    "preds = bstTF.predict(dtest)\n",
    "\n",
    "# Doğruluk oranını hesaplama\n",
    "accuracy = (preds == y_test).mean()\n",
    "print(\"XGBoost TF-IDF Accuracy:\", accuracy)"
   ]
  },
  {
   "cell_type": "code",
   "execution_count": 40,
   "id": "b1eb4596",
   "metadata": {
    "execution": {
     "iopub.execute_input": "2024-12-09T03:37:06.077261Z",
     "iopub.status.busy": "2024-12-09T03:37:06.076847Z",
     "iopub.status.idle": "2024-12-09T03:37:06.368125Z",
     "shell.execute_reply": "2024-12-09T03:37:06.366817Z"
    },
    "papermill": {
     "duration": 0.311063,
     "end_time": "2024-12-09T03:37:06.370427",
     "exception": false,
     "start_time": "2024-12-09T03:37:06.059364",
     "status": "completed"
    },
    "tags": []
   },
   "outputs": [
    {
     "name": "stdout",
     "output_type": "stream",
     "text": [
      "XGBoost TF-IDF Classification Report:\n",
      "              precision    recall  f1-score   support\n",
      "\n",
      "           0       0.87      0.81      0.84      7653\n",
      "           1       0.81      0.83      0.82      7567\n",
      "           2       0.92      0.96      0.94     15350\n",
      "           3       0.97      0.96      0.97      7666\n",
      "           4       0.83      0.89      0.86     15253\n",
      "           5       0.87      0.81      0.84      7653\n",
      "           6       0.89      0.86      0.87      7807\n",
      "           7       0.91      0.90      0.91      7591\n",
      "           8       0.81      0.77      0.79      7663\n",
      "\n",
      "    accuracy                           0.88     84203\n",
      "   macro avg       0.88      0.87      0.87     84203\n",
      "weighted avg       0.88      0.88      0.88     84203\n",
      "\n"
     ]
    }
   ],
   "source": [
    "report = classification_report(y_test, preds)\n",
    "matrix = confusion_matrix(y_test, preds)\n",
    "\n",
    "print(\"XGBoost TF-IDF Classification Report:\")\n",
    "print(report)"
   ]
  },
  {
   "cell_type": "code",
   "execution_count": 41,
   "id": "709398d8",
   "metadata": {
    "execution": {
     "iopub.execute_input": "2024-12-09T03:37:06.403934Z",
     "iopub.status.busy": "2024-12-09T03:37:06.403172Z",
     "iopub.status.idle": "2024-12-09T03:37:07.017516Z",
     "shell.execute_reply": "2024-12-09T03:37:07.016259Z"
    },
    "papermill": {
     "duration": 0.634018,
     "end_time": "2024-12-09T03:37:07.019951",
     "exception": false,
     "start_time": "2024-12-09T03:37:06.385933",
     "status": "completed"
    },
    "tags": []
   },
   "outputs": [
    {
     "data": {
      "image/png": "[encoded data removed]",
      "text/plain": [
       "<Figure size 1000x800 with 2 Axes>"
      ]
     },
     "metadata": {},
     "output_type": "display_data"
    }
   ],
   "source": [
    "import matplotlib.pyplot as plt\n",
    "import seaborn as sns\n",
    "\n",
    "# Karışıklık matrisini görselleştirme\n",
    "plt.figure(figsize=(10, 8))\n",
    "sns.heatmap(matrix, annot=True, fmt=\"d\", cmap=\"Blues\")\n",
    "plt.title(\"XGBoost TF-IDF Confusion Matrix\")\n",
    "plt.xlabel(\"Predicted Label\")\n",
    "plt.ylabel(\"True Label\")\n",
    "plt.show()"
   ]
  },
  {
   "cell_type": "markdown",
   "id": "f4ef6056",
   "metadata": {
    "papermill": {
     "duration": 0.016702,
     "end_time": "2024-12-09T03:37:07.053782",
     "exception": false,
     "start_time": "2024-12-09T03:37:07.037080",
     "status": "completed"
    },
    "tags": []
   },
   "source": [
    "## Unstemmed Data"
   ]
  },
  {
   "cell_type": "code",
   "execution_count": 42,
   "id": "7d76ee2e",
   "metadata": {
    "execution": {
     "iopub.execute_input": "2024-12-09T03:37:07.089777Z",
     "iopub.status.busy": "2024-12-09T03:37:07.089309Z",
     "iopub.status.idle": "2024-12-09T04:06:08.105163Z",
     "shell.execute_reply": "2024-12-09T04:06:08.103805Z"
    },
    "papermill": {
     "duration": 1741.04299,
     "end_time": "2024-12-09T04:06:08.113793",
     "exception": false,
     "start_time": "2024-12-09T03:37:07.070803",
     "status": "completed"
    },
    "tags": []
   },
   "outputs": [
    {
     "name": "stderr",
     "output_type": "stream",
     "text": [
      "/opt/conda/lib/python3.10/site-packages/xgboost/core.py:160: UserWarning: [03:37:08] WARNING: /workspace/src/context.cc:44: No visible GPU is found, setting device to CPU.\n",
      "  warnings.warn(smsg, UserWarning)\n"
     ]
    }
   ],
   "source": [
    "import xgboost as xgb\n",
    "\n",
    "ddtrain = xgb.DMatrix(XX_train_tf_idf, label=yy_train)\n",
    "ddtest = xgb.DMatrix(XX_test_tf_idf, label=yy_test)\n",
    "\n",
    "params = {\n",
    "    'objective': 'multi:softmax',  \n",
    "    'tree_method': 'hist',  \n",
    "    'device': 'cuda',\n",
    "    'num_class': 9 \n",
    "}\n",
    "\n",
    "num_round = 30\n",
    "bstTFF = xgb.train(params, ddtrain, num_round)"
   ]
  },
  {
   "cell_type": "code",
   "execution_count": 43,
   "id": "57c53539",
   "metadata": {
    "execution": {
     "iopub.execute_input": "2024-12-09T04:06:08.152557Z",
     "iopub.status.busy": "2024-12-09T04:06:08.152070Z",
     "iopub.status.idle": "2024-12-09T04:06:21.829217Z",
     "shell.execute_reply": "2024-12-09T04:06:21.828329Z"
    },
    "papermill": {
     "duration": 13.70031,
     "end_time": "2024-12-09T04:06:21.831995",
     "exception": false,
     "start_time": "2024-12-09T04:06:08.131685",
     "status": "completed"
    },
    "tags": []
   },
   "outputs": [
    {
     "name": "stdout",
     "output_type": "stream",
     "text": [
      "Unstemmed Data XGBoost TF-IDF Accuracy: 0.8457062099925181\n"
     ]
    }
   ],
   "source": [
    "preds = bstTFF.predict(ddtest)\n",
    "accuracy = (preds == y_test).mean()\n",
    "print(\"Unstemmed Data XGBoost TF-IDF Accuracy:\", accuracy)"
   ]
  },
  {
   "cell_type": "code",
   "execution_count": 44,
   "id": "38694e64",
   "metadata": {
    "execution": {
     "iopub.execute_input": "2024-12-09T04:06:21.872623Z",
     "iopub.status.busy": "2024-12-09T04:06:21.871569Z",
     "iopub.status.idle": "2024-12-09T04:06:22.268574Z",
     "shell.execute_reply": "2024-12-09T04:06:22.267030Z"
    },
    "papermill": {
     "duration": 0.419395,
     "end_time": "2024-12-09T04:06:22.271698",
     "exception": false,
     "start_time": "2024-12-09T04:06:21.852303",
     "status": "completed"
    },
    "tags": []
   },
   "outputs": [
    {
     "name": "stdout",
     "output_type": "stream",
     "text": [
      "Unstemmed Data XGBoost TF-IDF Classification Report:\n",
      "              precision    recall  f1-score   support\n",
      "\n",
      "           0       0.84      0.77      0.81      7653\n",
      "           1       0.80      0.78      0.79      7567\n",
      "           2       0.90      0.94      0.92     15350\n",
      "           3       0.97      0.93      0.95      7666\n",
      "           4       0.74      0.88      0.80     15253\n",
      "           5       0.87      0.75      0.81      7653\n",
      "           6       0.88      0.83      0.86      7807\n",
      "           7       0.90      0.89      0.89      7591\n",
      "           8       0.80      0.71      0.75      7663\n",
      "\n",
      "    accuracy                           0.85     84203\n",
      "   macro avg       0.85      0.83      0.84     84203\n",
      "weighted avg       0.85      0.85      0.85     84203\n",
      "\n"
     ]
    }
   ],
   "source": [
    "report = classification_report(yy_test, preds)\n",
    "matrix = confusion_matrix(yy_test, preds)\n",
    "\n",
    "print(\"Unstemmed Data XGBoost TF-IDF Classification Report:\")\n",
    "print(report)"
   ]
  },
  {
   "cell_type": "code",
   "execution_count": 45,
   "id": "0888cdd2",
   "metadata": {
    "execution": {
     "iopub.execute_input": "2024-12-09T04:06:22.324709Z",
     "iopub.status.busy": "2024-12-09T04:06:22.324258Z",
     "iopub.status.idle": "2024-12-09T04:06:22.901206Z",
     "shell.execute_reply": "2024-12-09T04:06:22.899735Z"
    },
    "papermill": {
     "duration": 0.598603,
     "end_time": "2024-12-09T04:06:22.904030",
     "exception": false,
     "start_time": "2024-12-09T04:06:22.305427",
     "status": "completed"
    },
    "tags": []
   },
   "outputs": [
    {
     "data": {
      "image/png": "[encoded data removed]",
      "text/plain": [
       "<Figure size 1000x800 with 2 Axes>"
      ]
     },
     "metadata": {},
     "output_type": "display_data"
    }
   ],
   "source": [
    "import matplotlib.pyplot as plt\n",
    "import seaborn as sns\n",
    "\n",
    "plt.figure(figsize=(10, 8))\n",
    "sns.heatmap(matrix, annot=True, fmt=\"d\", cmap=\"Blues\")\n",
    "plt.title(\"Unstemmed Data XGBoost TF-IDF Confusion Matrix\")\n",
    "plt.xlabel(\"Predicted Label\")\n",
    "plt.ylabel(\"True Label\")\n",
    "plt.show()"
   ]
  },
  {
   "cell_type": "markdown",
   "id": "bd9d00d6",
   "metadata": {
    "papermill": {
     "duration": 0.019119,
     "end_time": "2024-12-09T04:06:22.942303",
     "exception": false,
     "start_time": "2024-12-09T04:06:22.923184",
     "status": "completed"
    },
    "tags": []
   },
   "source": [
    "# **BERT**"
   ]
  },
  {
   "cell_type": "code",
   "execution_count": 46,
   "id": "bd7e95c2",
   "metadata": {
    "execution": {
     "iopub.execute_input": "2024-12-09T04:06:22.986827Z",
     "iopub.status.busy": "2024-12-09T04:06:22.985559Z",
     "iopub.status.idle": "2024-12-09T04:06:44.947514Z",
     "shell.execute_reply": "2024-12-09T04:06:44.946114Z"
    },
    "papermill": {
     "duration": 21.989541,
     "end_time": "2024-12-09T04:06:44.950955",
     "exception": false,
     "start_time": "2024-12-09T04:06:22.961414",
     "status": "completed"
    },
    "tags": []
   },
   "outputs": [
    {
     "name": "stdout",
     "output_type": "stream",
     "text": [
      "Requirement already satisfied: transformers in /opt/conda/lib/python3.10/site-packages (4.46.3)\r\n",
      "Requirement already satisfied: filelock in /opt/conda/lib/python3.10/site-packages (from transformers) (3.15.1)\r\n",
      "Requirement already satisfied: huggingface-hub<1.0,>=0.23.2 in /opt/conda/lib/python3.10/site-packages (from transformers) (0.26.2)\r\n",
      "Requirement already satisfied: numpy>=1.17 in /opt/conda/lib/python3.10/site-packages (from transformers) (1.26.4)\r\n",
      "Requirement already satisfied: packaging>=20.0 in /opt/conda/lib/python3.10/site-packages (from transformers) (21.3)\r\n",
      "Requirement already satisfied: pyyaml>=5.1 in /opt/conda/lib/python3.10/site-packages (from transformers) (6.0.2)\r\n",
      "Requirement already satisfied: regex!=2019.12.17 in /opt/conda/lib/python3.10/site-packages (from transformers) (2024.5.15)\r\n",
      "Requirement already satisfied: requests in /opt/conda/lib/python3.10/site-packages (from transformers) (2.32.3)\r\n",
      "Requirement already satisfied: tokenizers<0.21,>=0.20 in /opt/conda/lib/python3.10/site-packages (from transformers) (0.20.3)\r\n",
      "Requirement already satisfied: safetensors>=0.4.1 in /opt/conda/lib/python3.10/site-packages (from transformers) (0.4.5)\r\n",
      "Requirement already satisfied: tqdm>=4.27 in /opt/conda/lib/python3.10/site-packages (from transformers) (4.66.4)\r\n",
      "Requirement already satisfied: fsspec>=2023.5.0 in /opt/conda/lib/python3.10/site-packages (from huggingface-hub<1.0,>=0.23.2->transformers) (2024.9.0)\r\n",
      "Requirement already satisfied: typing-extensions>=3.7.4.3 in /opt/conda/lib/python3.10/site-packages (from huggingface-hub<1.0,>=0.23.2->transformers) (4.12.2)\r\n",
      "Requirement already satisfied: pyparsing!=3.0.5,>=2.0.2 in /opt/conda/lib/python3.10/site-packages (from packaging>=20.0->transformers) (3.1.2)\r\n",
      "Requirement already satisfied: charset-normalizer<4,>=2 in /opt/conda/lib/python3.10/site-packages (from requests->transformers) (3.3.2)\r\n",
      "Requirement already satisfied: idna<4,>=2.5 in /opt/conda/lib/python3.10/site-packages (from requests->transformers) (3.7)\r\n",
      "Requirement already satisfied: urllib3<3,>=1.21.1 in /opt/conda/lib/python3.10/site-packages (from requests->transformers) (1.26.18)\r\n",
      "Requirement already satisfied: certifi>=2017.4.17 in /opt/conda/lib/python3.10/site-packages (from requests->transformers) (2024.6.2)\r\n",
      "Requirement already satisfied: torch in /opt/conda/lib/python3.10/site-packages (2.4.0+cpu)\r\n",
      "Requirement already satisfied: filelock in /opt/conda/lib/python3.10/site-packages (from torch) (3.15.1)\r\n",
      "Requirement already satisfied: typing-extensions>=4.8.0 in /opt/conda/lib/python3.10/site-packages (from torch) (4.12.2)\r\n",
      "Requirement already satisfied: sympy in /opt/conda/lib/python3.10/site-packages (from torch) (1.13.1)\r\n",
      "Requirement already satisfied: networkx in /opt/conda/lib/python3.10/site-packages (from torch) (3.3)\r\n",
      "Requirement already satisfied: jinja2 in /opt/conda/lib/python3.10/site-packages (from torch) (3.1.4)\r\n",
      "Requirement already satisfied: fsspec in /opt/conda/lib/python3.10/site-packages (from torch) (2024.9.0)\r\n",
      "Requirement already satisfied: MarkupSafe>=2.0 in /opt/conda/lib/python3.10/site-packages (from jinja2->torch) (2.1.5)\r\n",
      "Requirement already satisfied: mpmath<1.4,>=1.1.0 in /opt/conda/lib/python3.10/site-packages (from sympy->torch) (1.3.0)\r\n"
     ]
    }
   ],
   "source": [
    "!pip install transformers\n",
    "!pip install torch"
   ]
  },
  {
   "cell_type": "code",
   "execution_count": 47,
   "id": "a71011fc",
   "metadata": {
    "execution": {
     "iopub.execute_input": "2024-12-09T04:06:44.992411Z",
     "iopub.status.busy": "2024-12-09T04:06:44.991926Z",
     "iopub.status.idle": "2024-12-09T04:30:25.361487Z",
     "shell.execute_reply": "2024-12-09T04:30:25.359927Z"
    },
    "papermill": {
     "duration": 1420.401455,
     "end_time": "2024-12-09T04:30:25.371971",
     "exception": false,
     "start_time": "2024-12-09T04:06:44.970516",
     "status": "completed"
    },
    "tags": []
   },
   "outputs": [
    {
     "data": {
      "application/vnd.jupyter.widget-view+json": {
       "model_id": "f1b4a6f60e7d40cd90c8e9fd79b1e3e2",
       "version_major": 2,
       "version_minor": 0
      },
      "text/plain": [
       "tokenizer_config.json:   0%|          | 0.00/60.0 [00:00<?, ?B/s]"
      ]
     },
     "metadata": {},
     "output_type": "display_data"
    },
    {
     "data": {
      "application/vnd.jupyter.widget-view+json": {
       "model_id": "be8185947fc44379bf2a5740633891f0",
       "version_major": 2,
       "version_minor": 0
      },
      "text/plain": [
       "vocab.txt:   0%|          | 0.00/251k [00:00<?, ?B/s]"
      ]
     },
     "metadata": {},
     "output_type": "display_data"
    },
    {
     "data": {
      "application/vnd.jupyter.widget-view+json": {
       "model_id": "cdc92d43a9164c50886affdb096b1d4e",
       "version_major": 2,
       "version_minor": 0
      },
      "text/plain": [
       "config.json:   0%|          | 0.00/385 [00:00<?, ?B/s]"
      ]
     },
     "metadata": {},
     "output_type": "display_data"
    }
   ],
   "source": [
    "from transformers import BertTokenizer, BertForSequenceClassification\n",
    "import torch\n",
    "from torch.utils.data import TensorDataset, DataLoader, RandomSampler, SequentialSampler\n",
    "\n",
    "from transformers import BertTokenizer, BertForSequenceClassification\n",
    "import torch\n",
    "from torch.utils.data import TensorDataset, DataLoader, RandomSampler, SequentialSampler\n",
    "from sklearn.model_selection import train_test_split\n",
    "import pandas as pd\n",
    "\n",
    "train_texts, test_texts, train_labels, test_labels = train_test_split(dn['haber'], dn['sinif'], test_size=0.3, random_state=42)\n",
    "\n",
    "# Tokenizer\n",
    "tokenizer = BertTokenizer.from_pretrained('dbmdz/bert-base-turkish-cased')\n",
    "\n",
    "\n",
    "# Tokenizing dat\n",
    "train_encodings = tokenizer(list(train_texts), truncation=True, padding=True, max_length=1500, return_tensors='pt')\n",
    "test_encodings = tokenizer(list(test_texts), truncation=True, padding=True, max_length=1500, return_tensors='pt')\n",
    "\n",
    "# Verify that all encoded inputs are of the same length\n",
    "assert len(train_encodings['input_ids']) == len(train_encodings['attention_mask']) == len(train_labels), \"Mismatch in train dataset lengths\"\n",
    "assert len(test_encodings['input_ids']) == len(test_encodings['attention_mask']) == len(test_labels), \"Mismatch in test dataset lengths\"\n",
    "\n",
    "# Convert labels to tensors\n",
    "train_labels = torch.tensor(train_labels.values if isinstance(train_labels, pd.Series) else train_labels)\n",
    "test_labels = torch.tensor(test_labels.values if isinstance(test_labels, pd.Series) else test_labels)\n",
    "\n",
    "# Create TensorDatasets\n",
    "train_dataset = TensorDataset(train_encodings['input_ids'], train_encodings['attention_mask'], train_labels)\n",
    "test_dataset = TensorDataset(test_encodings['input_ids'], test_encodings['attention_mask'], test_labels)\n",
    "\n",
    "# DataLoaders\n",
    "train_loader = DataLoader(train_dataset, batch_size=64, shuffle=True)\n",
    "test_loader = DataLoader(test_dataset, batch_size=64, shuffle=False)\n",
    "\n"
   ]
  },
  {
   "cell_type": "code",
   "execution_count": 48,
   "id": "085b0423",
   "metadata": {
    "execution": {
     "iopub.execute_input": "2024-12-09T04:30:25.432531Z",
     "iopub.status.busy": "2024-12-09T04:30:25.431651Z",
     "iopub.status.idle": "2024-12-09T04:30:39.436478Z",
     "shell.execute_reply": "2024-12-09T04:30:39.435221Z"
    },
    "papermill": {
     "duration": 14.031231,
     "end_time": "2024-12-09T04:30:39.438909",
     "exception": false,
     "start_time": "2024-12-09T04:30:25.407678",
     "status": "completed"
    },
    "tags": []
   },
   "outputs": [
    {
     "data": {
      "application/vnd.jupyter.widget-view+json": {
       "model_id": "efaa073db2bf4cf99fff3e508c7bb5af",
       "version_major": 2,
       "version_minor": 0
      },
      "text/plain": [
       "model.safetensors:   0%|          | 0.00/445M [00:00<?, ?B/s]"
      ]
     },
     "metadata": {},
     "output_type": "display_data"
    },
    {
     "name": "stderr",
     "output_type": "stream",
     "text": [
      "Some weights of BertForSequenceClassification were not initialized from the model checkpoint at dbmdz/bert-base-turkish-cased and are newly initialized: ['classifier.bias', 'classifier.weight']\n",
      "You should probably TRAIN this model on a down-stream task to be able to use it for predictions and inference.\n"
     ]
    }
   ],
   "source": [
    "BertModel = BertForSequenceClassification.from_pretrained('dbmdz/bert-base-turkish-cased', num_labels=9)"
   ]
  },
  {
   "cell_type": "code",
   "execution_count": 49,
   "id": "fb822b70",
   "metadata": {
    "execution": {
     "iopub.execute_input": "2024-12-09T04:30:39.481868Z",
     "iopub.status.busy": "2024-12-09T04:30:39.481115Z",
     "iopub.status.idle": "2024-12-09T04:30:39.498945Z",
     "shell.execute_reply": "2024-12-09T04:30:39.497774Z"
    },
    "papermill": {
     "duration": 0.041929,
     "end_time": "2024-12-09T04:30:39.501291",
     "exception": false,
     "start_time": "2024-12-09T04:30:39.459362",
     "status": "completed"
    },
    "tags": []
   },
   "outputs": [
    {
     "data": {
      "text/plain": [
       "BertForSequenceClassification(\n",
       "  (bert): BertModel(\n",
       "    (embeddings): BertEmbeddings(\n",
       "      (word_embeddings): Embedding(32000, 768, padding_idx=0)\n",
       "      (position_embeddings): Embedding(512, 768)\n",
       "      (token_type_embeddings): Embedding(2, 768)\n",
       "      (LayerNorm): LayerNorm((768,), eps=1e-12, elementwise_affine=True)\n",
       "      (dropout): Dropout(p=0.1, inplace=False)\n",
       "    )\n",
       "    (encoder): BertEncoder(\n",
       "      (layer): ModuleList(\n",
       "        (0-11): 12 x BertLayer(\n",
       "          (attention): BertAttention(\n",
       "            (self): BertSdpaSelfAttention(\n",
       "              (query): Linear(in_features=768, out_features=768, bias=True)\n",
       "              (key): Linear(in_features=768, out_features=768, bias=True)\n",
       "              (value): Linear(in_features=768, out_features=768, bias=True)\n",
       "              (dropout): Dropout(p=0.1, inplace=False)\n",
       "            )\n",
       "            (output): BertSelfOutput(\n",
       "              (dense): Linear(in_features=768, out_features=768, bias=True)\n",
       "              (LayerNorm): LayerNorm((768,), eps=1e-12, elementwise_affine=True)\n",
       "              (dropout): Dropout(p=0.1, inplace=False)\n",
       "            )\n",
       "          )\n",
       "          (intermediate): BertIntermediate(\n",
       "            (dense): Linear(in_features=768, out_features=3072, bias=True)\n",
       "            (intermediate_act_fn): GELUActivation()\n",
       "          )\n",
       "          (output): BertOutput(\n",
       "            (dense): Linear(in_features=3072, out_features=768, bias=True)\n",
       "            (LayerNorm): LayerNorm((768,), eps=1e-12, elementwise_affine=True)\n",
       "            (dropout): Dropout(p=0.1, inplace=False)\n",
       "          )\n",
       "        )\n",
       "      )\n",
       "    )\n",
       "    (pooler): BertPooler(\n",
       "      (dense): Linear(in_features=768, out_features=768, bias=True)\n",
       "      (activation): Tanh()\n",
       "    )\n",
       "  )\n",
       "  (dropout): Dropout(p=0.1, inplace=False)\n",
       "  (classifier): Linear(in_features=768, out_features=9, bias=True)\n",
       ")"
      ]
     },
     "execution_count": 49,
     "metadata": {},
     "output_type": "execute_result"
    }
   ],
   "source": [
    "device = torch.device('cuda') if torch.cuda.is_available() else torch.device('cpu')\n",
    "BertModel.to(device)"
   ]
  },
  {
   "cell_type": "code",
   "execution_count": 50,
   "id": "ee64f5dd",
   "metadata": {
    "execution": {
     "iopub.execute_input": "2024-12-09T04:30:39.546149Z",
     "iopub.status.busy": "2024-12-09T04:30:39.545733Z",
     "iopub.status.idle": "2024-12-09T04:30:43.698485Z",
     "shell.execute_reply": "2024-12-09T04:30:43.696691Z"
    },
    "papermill": {
     "duration": 4.179501,
     "end_time": "2024-12-09T04:30:43.701370",
     "exception": true,
     "start_time": "2024-12-09T04:30:39.521869",
     "status": "failed"
    },
    "tags": []
   },
   "outputs": [
    {
     "name": "stderr",
     "output_type": "stream",
     "text": [
      "/opt/conda/lib/python3.10/site-packages/transformers/optimization.py:591: FutureWarning: This implementation of AdamW is deprecated and will be removed in a future version. Use the PyTorch implementation torch.optim.AdamW instead, or set `no_deprecation_warning=True` to disable this warning\n",
      "  warnings.warn(\n"
     ]
    },
    {
     "ename": "RuntimeError",
     "evalue": "The expanded size of the tensor (1500) must match the existing size (512) at non-singleton dimension 1.  Target sizes: [64, 1500].  Tensor sizes: [1, 512]",
     "output_type": "error",
     "traceback": [
      "\u001b[0;31m---------------------------------------------------------------------------\u001b[0m",
      "\u001b[0;31mRuntimeError\u001b[0m                              Traceback (most recent call last)",
      "Cell \u001b[0;32mIn[50], line 19\u001b[0m\n\u001b[1;32m     16\u001b[0m input_ids, attention_mask, labels \u001b[38;5;241m=\u001b[39m input_ids\u001b[38;5;241m.\u001b[39mto(device), attention_mask\u001b[38;5;241m.\u001b[39mto(device), labels\u001b[38;5;241m.\u001b[39mto(device)\n\u001b[1;32m     18\u001b[0m optimizer\u001b[38;5;241m.\u001b[39mzero_grad()\n\u001b[0;32m---> 19\u001b[0m outputs \u001b[38;5;241m=\u001b[39m \u001b[43mBertModel\u001b[49m\u001b[43m(\u001b[49m\u001b[43minput_ids\u001b[49m\u001b[43m,\u001b[49m\u001b[43m \u001b[49m\u001b[43mattention_mask\u001b[49m\u001b[38;5;241;43m=\u001b[39;49m\u001b[43mattention_mask\u001b[49m\u001b[43m,\u001b[49m\u001b[43m \u001b[49m\u001b[43mlabels\u001b[49m\u001b[38;5;241;43m=\u001b[39;49m\u001b[43mlabels\u001b[49m\u001b[43m)\u001b[49m\n\u001b[1;32m     20\u001b[0m loss \u001b[38;5;241m=\u001b[39m outputs\u001b[38;5;241m.\u001b[39mloss\n\u001b[1;32m     21\u001b[0m loss\u001b[38;5;241m.\u001b[39mbackward()\n",
      "File \u001b[0;32m/opt/conda/lib/python3.10/site-packages/torch/nn/modules/module.py:1553\u001b[0m, in \u001b[0;36mModule._wrapped_call_impl\u001b[0;34m(self, *args, **kwargs)\u001b[0m\n\u001b[1;32m   1551\u001b[0m     \u001b[38;5;28;01mreturn\u001b[39;00m \u001b[38;5;28mself\u001b[39m\u001b[38;5;241m.\u001b[39m_compiled_call_impl(\u001b[38;5;241m*\u001b[39margs, \u001b[38;5;241m*\u001b[39m\u001b[38;5;241m*\u001b[39mkwargs)  \u001b[38;5;66;03m# type: ignore[misc]\u001b[39;00m\n\u001b[1;32m   1552\u001b[0m \u001b[38;5;28;01melse\u001b[39;00m:\n\u001b[0;32m-> 1553\u001b[0m     \u001b[38;5;28;01mreturn\u001b[39;00m \u001b[38;5;28;43mself\u001b[39;49m\u001b[38;5;241;43m.\u001b[39;49m\u001b[43m_call_impl\u001b[49m\u001b[43m(\u001b[49m\u001b[38;5;241;43m*\u001b[39;49m\u001b[43margs\u001b[49m\u001b[43m,\u001b[49m\u001b[43m \u001b[49m\u001b[38;5;241;43m*\u001b[39;49m\u001b[38;5;241;43m*\u001b[39;49m\u001b[43mkwargs\u001b[49m\u001b[43m)\u001b[49m\n",
      "File \u001b[0;32m/opt/conda/lib/python3.10/site-packages/torch/nn/modules/module.py:1562\u001b[0m, in \u001b[0;36mModule._call_impl\u001b[0;34m(self, *args, **kwargs)\u001b[0m\n\u001b[1;32m   1557\u001b[0m \u001b[38;5;66;03m# If we don't have any hooks, we want to skip the rest of the logic in\u001b[39;00m\n\u001b[1;32m   1558\u001b[0m \u001b[38;5;66;03m# this function, and just call forward.\u001b[39;00m\n\u001b[1;32m   1559\u001b[0m \u001b[38;5;28;01mif\u001b[39;00m \u001b[38;5;129;01mnot\u001b[39;00m (\u001b[38;5;28mself\u001b[39m\u001b[38;5;241m.\u001b[39m_backward_hooks \u001b[38;5;129;01mor\u001b[39;00m \u001b[38;5;28mself\u001b[39m\u001b[38;5;241m.\u001b[39m_backward_pre_hooks \u001b[38;5;129;01mor\u001b[39;00m \u001b[38;5;28mself\u001b[39m\u001b[38;5;241m.\u001b[39m_forward_hooks \u001b[38;5;129;01mor\u001b[39;00m \u001b[38;5;28mself\u001b[39m\u001b[38;5;241m.\u001b[39m_forward_pre_hooks\n\u001b[1;32m   1560\u001b[0m         \u001b[38;5;129;01mor\u001b[39;00m _global_backward_pre_hooks \u001b[38;5;129;01mor\u001b[39;00m _global_backward_hooks\n\u001b[1;32m   1561\u001b[0m         \u001b[38;5;129;01mor\u001b[39;00m _global_forward_hooks \u001b[38;5;129;01mor\u001b[39;00m _global_forward_pre_hooks):\n\u001b[0;32m-> 1562\u001b[0m     \u001b[38;5;28;01mreturn\u001b[39;00m \u001b[43mforward_call\u001b[49m\u001b[43m(\u001b[49m\u001b[38;5;241;43m*\u001b[39;49m\u001b[43margs\u001b[49m\u001b[43m,\u001b[49m\u001b[43m \u001b[49m\u001b[38;5;241;43m*\u001b[39;49m\u001b[38;5;241;43m*\u001b[39;49m\u001b[43mkwargs\u001b[49m\u001b[43m)\u001b[49m\n\u001b[1;32m   1564\u001b[0m \u001b[38;5;28;01mtry\u001b[39;00m:\n\u001b[1;32m   1565\u001b[0m     result \u001b[38;5;241m=\u001b[39m \u001b[38;5;28;01mNone\u001b[39;00m\n",
      "File \u001b[0;32m/opt/conda/lib/python3.10/site-packages/transformers/models/bert/modeling_bert.py:1668\u001b[0m, in \u001b[0;36mBertForSequenceClassification.forward\u001b[0;34m(self, input_ids, attention_mask, token_type_ids, position_ids, head_mask, inputs_embeds, labels, output_attentions, output_hidden_states, return_dict)\u001b[0m\n\u001b[1;32m   1660\u001b[0m \u001b[38;5;250m\u001b[39m\u001b[38;5;124mr\u001b[39m\u001b[38;5;124;03m\"\"\"\u001b[39;00m\n\u001b[1;32m   1661\u001b[0m \u001b[38;5;124;03mlabels (`torch.LongTensor` of shape `(batch_size,)`, *optional*):\u001b[39;00m\n\u001b[1;32m   1662\u001b[0m \u001b[38;5;124;03m    Labels for computing the sequence classification/regression loss. Indices should be in `[0, ...,\u001b[39;00m\n\u001b[1;32m   1663\u001b[0m \u001b[38;5;124;03m    config.num_labels - 1]`. If `config.num_labels == 1` a regression loss is computed (Mean-Square loss), If\u001b[39;00m\n\u001b[1;32m   1664\u001b[0m \u001b[38;5;124;03m    `config.num_labels > 1` a classification loss is computed (Cross-Entropy).\u001b[39;00m\n\u001b[1;32m   1665\u001b[0m \u001b[38;5;124;03m\"\"\"\u001b[39;00m\n\u001b[1;32m   1666\u001b[0m return_dict \u001b[38;5;241m=\u001b[39m return_dict \u001b[38;5;28;01mif\u001b[39;00m return_dict \u001b[38;5;129;01mis\u001b[39;00m \u001b[38;5;129;01mnot\u001b[39;00m \u001b[38;5;28;01mNone\u001b[39;00m \u001b[38;5;28;01melse\u001b[39;00m \u001b[38;5;28mself\u001b[39m\u001b[38;5;241m.\u001b[39mconfig\u001b[38;5;241m.\u001b[39muse_return_dict\n\u001b[0;32m-> 1668\u001b[0m outputs \u001b[38;5;241m=\u001b[39m \u001b[38;5;28;43mself\u001b[39;49m\u001b[38;5;241;43m.\u001b[39;49m\u001b[43mbert\u001b[49m\u001b[43m(\u001b[49m\n\u001b[1;32m   1669\u001b[0m \u001b[43m    \u001b[49m\u001b[43minput_ids\u001b[49m\u001b[43m,\u001b[49m\n\u001b[1;32m   1670\u001b[0m \u001b[43m    \u001b[49m\u001b[43mattention_mask\u001b[49m\u001b[38;5;241;43m=\u001b[39;49m\u001b[43mattention_mask\u001b[49m\u001b[43m,\u001b[49m\n\u001b[1;32m   1671\u001b[0m \u001b[43m    \u001b[49m\u001b[43mtoken_type_ids\u001b[49m\u001b[38;5;241;43m=\u001b[39;49m\u001b[43mtoken_type_ids\u001b[49m\u001b[43m,\u001b[49m\n\u001b[1;32m   1672\u001b[0m \u001b[43m    \u001b[49m\u001b[43mposition_ids\u001b[49m\u001b[38;5;241;43m=\u001b[39;49m\u001b[43mposition_ids\u001b[49m\u001b[43m,\u001b[49m\n\u001b[1;32m   1673\u001b[0m \u001b[43m    \u001b[49m\u001b[43mhead_mask\u001b[49m\u001b[38;5;241;43m=\u001b[39;49m\u001b[43mhead_mask\u001b[49m\u001b[43m,\u001b[49m\n\u001b[1;32m   1674\u001b[0m \u001b[43m    \u001b[49m\u001b[43minputs_embeds\u001b[49m\u001b[38;5;241;43m=\u001b[39;49m\u001b[43minputs_embeds\u001b[49m\u001b[43m,\u001b[49m\n\u001b[1;32m   1675\u001b[0m \u001b[43m    \u001b[49m\u001b[43moutput_attentions\u001b[49m\u001b[38;5;241;43m=\u001b[39;49m\u001b[43moutput_attentions\u001b[49m\u001b[43m,\u001b[49m\n\u001b[1;32m   1676\u001b[0m \u001b[43m    \u001b[49m\u001b[43moutput_hidden_states\u001b[49m\u001b[38;5;241;43m=\u001b[39;49m\u001b[43moutput_hidden_states\u001b[49m\u001b[43m,\u001b[49m\n\u001b[1;32m   1677\u001b[0m \u001b[43m    \u001b[49m\u001b[43mreturn_dict\u001b[49m\u001b[38;5;241;43m=\u001b[39;49m\u001b[43mreturn_dict\u001b[49m\u001b[43m,\u001b[49m\n\u001b[1;32m   1678\u001b[0m \u001b[43m\u001b[49m\u001b[43m)\u001b[49m\n\u001b[1;32m   1680\u001b[0m pooled_output \u001b[38;5;241m=\u001b[39m outputs[\u001b[38;5;241m1\u001b[39m]\n\u001b[1;32m   1682\u001b[0m pooled_output \u001b[38;5;241m=\u001b[39m \u001b[38;5;28mself\u001b[39m\u001b[38;5;241m.\u001b[39mdropout(pooled_output)\n",
      "File \u001b[0;32m/opt/conda/lib/python3.10/site-packages/torch/nn/modules/module.py:1553\u001b[0m, in \u001b[0;36mModule._wrapped_call_impl\u001b[0;34m(self, *args, **kwargs)\u001b[0m\n\u001b[1;32m   1551\u001b[0m     \u001b[38;5;28;01mreturn\u001b[39;00m \u001b[38;5;28mself\u001b[39m\u001b[38;5;241m.\u001b[39m_compiled_call_impl(\u001b[38;5;241m*\u001b[39margs, \u001b[38;5;241m*\u001b[39m\u001b[38;5;241m*\u001b[39mkwargs)  \u001b[38;5;66;03m# type: ignore[misc]\u001b[39;00m\n\u001b[1;32m   1552\u001b[0m \u001b[38;5;28;01melse\u001b[39;00m:\n\u001b[0;32m-> 1553\u001b[0m     \u001b[38;5;28;01mreturn\u001b[39;00m \u001b[38;5;28;43mself\u001b[39;49m\u001b[38;5;241;43m.\u001b[39;49m\u001b[43m_call_impl\u001b[49m\u001b[43m(\u001b[49m\u001b[38;5;241;43m*\u001b[39;49m\u001b[43margs\u001b[49m\u001b[43m,\u001b[49m\u001b[43m \u001b[49m\u001b[38;5;241;43m*\u001b[39;49m\u001b[38;5;241;43m*\u001b[39;49m\u001b[43mkwargs\u001b[49m\u001b[43m)\u001b[49m\n",
      "File \u001b[0;32m/opt/conda/lib/python3.10/site-packages/torch/nn/modules/module.py:1562\u001b[0m, in \u001b[0;36mModule._call_impl\u001b[0;34m(self, *args, **kwargs)\u001b[0m\n\u001b[1;32m   1557\u001b[0m \u001b[38;5;66;03m# If we don't have any hooks, we want to skip the rest of the logic in\u001b[39;00m\n\u001b[1;32m   1558\u001b[0m \u001b[38;5;66;03m# this function, and just call forward.\u001b[39;00m\n\u001b[1;32m   1559\u001b[0m \u001b[38;5;28;01mif\u001b[39;00m \u001b[38;5;129;01mnot\u001b[39;00m (\u001b[38;5;28mself\u001b[39m\u001b[38;5;241m.\u001b[39m_backward_hooks \u001b[38;5;129;01mor\u001b[39;00m \u001b[38;5;28mself\u001b[39m\u001b[38;5;241m.\u001b[39m_backward_pre_hooks \u001b[38;5;129;01mor\u001b[39;00m \u001b[38;5;28mself\u001b[39m\u001b[38;5;241m.\u001b[39m_forward_hooks \u001b[38;5;129;01mor\u001b[39;00m \u001b[38;5;28mself\u001b[39m\u001b[38;5;241m.\u001b[39m_forward_pre_hooks\n\u001b[1;32m   1560\u001b[0m         \u001b[38;5;129;01mor\u001b[39;00m _global_backward_pre_hooks \u001b[38;5;129;01mor\u001b[39;00m _global_backward_hooks\n\u001b[1;32m   1561\u001b[0m         \u001b[38;5;129;01mor\u001b[39;00m _global_forward_hooks \u001b[38;5;129;01mor\u001b[39;00m _global_forward_pre_hooks):\n\u001b[0;32m-> 1562\u001b[0m     \u001b[38;5;28;01mreturn\u001b[39;00m \u001b[43mforward_call\u001b[49m\u001b[43m(\u001b[49m\u001b[38;5;241;43m*\u001b[39;49m\u001b[43margs\u001b[49m\u001b[43m,\u001b[49m\u001b[43m \u001b[49m\u001b[38;5;241;43m*\u001b[39;49m\u001b[38;5;241;43m*\u001b[39;49m\u001b[43mkwargs\u001b[49m\u001b[43m)\u001b[49m\n\u001b[1;32m   1564\u001b[0m \u001b[38;5;28;01mtry\u001b[39;00m:\n\u001b[1;32m   1565\u001b[0m     result \u001b[38;5;241m=\u001b[39m \u001b[38;5;28;01mNone\u001b[39;00m\n",
      "File \u001b[0;32m/opt/conda/lib/python3.10/site-packages/transformers/models/bert/modeling_bert.py:1073\u001b[0m, in \u001b[0;36mBertModel.forward\u001b[0;34m(self, input_ids, attention_mask, token_type_ids, position_ids, head_mask, inputs_embeds, encoder_hidden_states, encoder_attention_mask, past_key_values, use_cache, output_attentions, output_hidden_states, return_dict)\u001b[0m\n\u001b[1;32m   1071\u001b[0m \u001b[38;5;28;01mif\u001b[39;00m \u001b[38;5;28mhasattr\u001b[39m(\u001b[38;5;28mself\u001b[39m\u001b[38;5;241m.\u001b[39membeddings, \u001b[38;5;124m\"\u001b[39m\u001b[38;5;124mtoken_type_ids\u001b[39m\u001b[38;5;124m\"\u001b[39m):\n\u001b[1;32m   1072\u001b[0m     buffered_token_type_ids \u001b[38;5;241m=\u001b[39m \u001b[38;5;28mself\u001b[39m\u001b[38;5;241m.\u001b[39membeddings\u001b[38;5;241m.\u001b[39mtoken_type_ids[:, :seq_length]\n\u001b[0;32m-> 1073\u001b[0m     buffered_token_type_ids_expanded \u001b[38;5;241m=\u001b[39m \u001b[43mbuffered_token_type_ids\u001b[49m\u001b[38;5;241;43m.\u001b[39;49m\u001b[43mexpand\u001b[49m\u001b[43m(\u001b[49m\u001b[43mbatch_size\u001b[49m\u001b[43m,\u001b[49m\u001b[43m \u001b[49m\u001b[43mseq_length\u001b[49m\u001b[43m)\u001b[49m\n\u001b[1;32m   1074\u001b[0m     token_type_ids \u001b[38;5;241m=\u001b[39m buffered_token_type_ids_expanded\n\u001b[1;32m   1075\u001b[0m \u001b[38;5;28;01melse\u001b[39;00m:\n",
      "\u001b[0;31mRuntimeError\u001b[0m: The expanded size of the tensor (1500) must match the existing size (512) at non-singleton dimension 1.  Target sizes: [64, 1500].  Tensor sizes: [1, 512]"
     ]
    }
   ],
   "source": [
    "from transformers import AdamW\n",
    "import torch.nn as nn\n",
    "optimizer = AdamW(BertModel.parameters(), lr=0.0001)\n",
    "criterion = nn.CrossEntropyLoss()\n",
    "\n",
    "num_epochs = 3\n",
    "patience = 3\n",
    "best_val_loss = float('inf')\n",
    "patience_counter = 0\n",
    "\n",
    "for epoch in range(num_epochs):\n",
    "    BertModel.train()\n",
    "    running_loss = 0.0\n",
    "    for i, batch in enumerate(train_loader):\n",
    "        input_ids, attention_mask, labels = batch\n",
    "        input_ids, attention_mask, labels = input_ids.to(device), attention_mask.to(device), labels.to(device)\n",
    "\n",
    "        optimizer.zero_grad()\n",
    "        outputs = BertModel(input_ids, attention_mask=attention_mask, labels=labels)\n",
    "        loss = outputs.loss\n",
    "        loss.backward()\n",
    "        optimizer.step()\n",
    "\n",
    "        running_loss += loss.item()\n",
    "        if (i + 1) % 1000 == 0:\n",
    "            print(f\"Epoch [{epoch + 1}/{num_epochs}], Step [{i + 1}/{len(train_loader)}], Loss: {loss.item():.4f}\")\n",
    "\n",
    "    avg_train_loss = running_loss / len(train_loader)\n",
    "    print(f\"Epoch [{epoch + 1}/{num_epochs}] Average Training Loss: {avg_train_loss:.4f}\")\n"
   ]
  },
  {
   "cell_type": "code",
   "execution_count": null,
   "id": "eb6bd5a1",
   "metadata": {
    "papermill": {
     "duration": null,
     "end_time": null,
     "exception": null,
     "start_time": null,
     "status": "pending"
    },
    "tags": []
   },
   "outputs": [],
   "source": [
    "all_labels = []\n",
    "all_predictions = []\n",
    "\n",
    "with torch.no_grad():\n",
    "    for batch in test_loader:\n",
    "        input_ids, attention_mask, labels = batch\n",
    "        input_ids, attention_mask, labels = input_ids.to(device), attention_mask.to(device), labels.to(device)\n",
    "        outputs = BertModel(input_ids, attention_mask=attention_mask)\n",
    "        predictions = torch.argmax(outputs.logits, dim=1)\n",
    "        \n",
    "        # Gerçek etiketleri ve tahminleri listelere ekle\n",
    "        all_labels.extend(labels.cpu().numpy())\n",
    "        all_predictions.extend(predictions.cpu().numpy())"
   ]
  },
  {
   "cell_type": "code",
   "execution_count": null,
   "id": "d9caa406",
   "metadata": {
    "papermill": {
     "duration": null,
     "end_time": null,
     "exception": null,
     "start_time": null,
     "status": "pending"
    },
    "tags": []
   },
   "outputs": [],
   "source": [
    "report = classification_report(all_labels, all_predictions)\n",
    "cm = confusion_matrix(all_labels, all_predictions)\n",
    "\n",
    "print(\"Classification Report:\")\n",
    "print(report)"
   ]
  },
  {
   "cell_type": "code",
   "execution_count": null,
   "id": "5429a481",
   "metadata": {
    "papermill": {
     "duration": null,
     "end_time": null,
     "exception": null,
     "start_time": null,
     "status": "pending"
    },
    "tags": []
   },
   "outputs": [],
   "source": [
    "def plot_confusion_matrix(cm, classes):\n",
    "    plt.figure(figsize=(8, 6))\n",
    "    sns.set(font_scale=1.2)\n",
    "    sns.heatmap(cm, annot=True, fmt=\"d\", cmap=\"Blues\", xticklabels=classes, yticklabels=classes)\n",
    "    plt.xlabel(\"Tahmin Edilen Etiketler\")\n",
    "    plt.ylabel(\"Gerçek Etiketler\")\n",
    "    plt.title(\"Karışıklık Matrisi\")\n",
    "    plt.show()\n",
    "classes = [str(i) for i in range(len(cm))]\n",
    "\n",
    "plot_confusion_matrix(cm, classes)"
   ]
  },
  {
   "cell_type": "code",
   "execution_count": null,
   "id": "56d43219",
   "metadata": {
    "papermill": {
     "duration": null,
     "end_time": null,
     "exception": null,
     "start_time": null,
     "status": "pending"
    },
    "tags": []
   },
   "outputs": [],
   "source": [
    "torch.save(BertModel.state_dict(), 'BertModel.bst')\n",
    "torch.save(BertModel, \"bertModel.pth\")\n"
   ]
  },
  {
   "cell_type": "code",
   "execution_count": null,
   "id": "bbcd7d7c",
   "metadata": {
    "papermill": {
     "duration": null,
     "end_time": null,
     "exception": null,
     "start_time": null,
     "status": "pending"
    },
    "tags": []
   },
   "outputs": [],
   "source": [
    "bstTF.save_model('xgb_model.json')"
   ]
  },
  {
   "cell_type": "code",
   "execution_count": null,
   "id": "58172065",
   "metadata": {
    "papermill": {
     "duration": null,
     "end_time": null,
     "exception": null,
     "start_time": null,
     "status": "pending"
    },
    "tags": []
   },
   "outputs": [],
   "source": [
    "import zipfile\n",
    "import os\n",
    "\n",
    "def zip_files(directory, zip_filename):\n",
    "    # Belirtilen dizindeki tüm dosyaları zip dosyasına ekleyin\n",
    "    with zipfile.ZipFile(zip_filename, 'w', zipfile.ZIP_DEFLATED) as zipf:\n",
    "        for root, _, files in os.walk(directory):\n",
    "            for file in files:\n",
    "                zipf.write(os.path.join(root, file), os.path.relpath(os.path.join(root, file), os.path.join(directory, '..')))\n",
    "\n",
    "# Zip dosyası oluşturmak için dizin ve zip dosya adını belirtin\n",
    "directory_to_zip = \"/kaggle/working/\"\n",
    "zip_filename = \"models.zip\"\n",
    "zip_files(directory_to_zip, zip_filename)\n"
   ]
  },
  {
   "cell_type": "markdown",
   "id": "e2a65926",
   "metadata": {
    "papermill": {
     "duration": null,
     "end_time": null,
     "exception": null,
     "start_time": null,
     "status": "pending"
    },
    "tags": []
   },
   "source": [
    "# "
   ]
  }
 ],
 "metadata": {
  "kaggle": {
   "accelerator": "none",
   "dataSources": [
    {
     "datasetId": 6239710,
     "sourceId": 10113559,
     "sourceType": "datasetVersion"
    },
    {
     "datasetId": 6249207,
     "sourceId": 10126673,
     "sourceType": "datasetVersion"
    }
   ],
   "isGpuEnabled": false,
   "isInternetEnabled": true,
   "language": "python",
   "sourceType": "notebook"
  },
  "kernelspec": {
   "display_name": "Python 3",
   "language": "python",
   "name": "python3"
  },
  "language_info": {
   "codemirror_mode": {
    "name": "ipython",
    "version": 3
   },
   "file_extension": ".py",
   "mimetype": "text/x-python",
   "name": "python",
   "nbconvert_exporter": "python",
   "pygments_lexer": "ipython3",
   "version": "3.10.14"
  },
  "papermill": {
   "default_parameters": {},
   "duration": 16837.85314,
   "end_time": "2024-12-09T04:30:48.750298",
   "environment_variables": {},
   "exception": true,
   "input_path": "__notebook__.ipynb",
   "output_path": "__notebook__.ipynb",
   "parameters": {},
   "start_time": "2024-12-08T23:50:10.897158",
   "version": "2.6.0"
  },
  "widgets": {
   "application/vnd.jupyter.widget-state+json": {
    "state": {
     "04b14aa2fcaa45d791ca1272332be60e": {
      "model_module": "@jupyter-widgets/base",
      "model_module_version": "2.0.0",
      "model_name": "LayoutModel",
      "state": {
       "_model_module": "@jupyter-widgets/base",
       "_model_module_version": "2.0.0",
       "_model_name": "LayoutModel",
       "_view_count": null,
       "_view_module": "@jupyter-widgets/base",
       "_view_module_version": "2.0.0",
       "_view_name": "LayoutView",
       "align_content": null,
       "align_items": null,
       "align_self": null,
       "border_bottom": null,
       "border_left": null,
       "border_right": null,
       "border_top": null,
       "bottom": null,
       "display": null,
       "flex": null,
       "flex_flow": null,
       "grid_area": null,
       "grid_auto_columns": null,
       "grid_auto_flow": null,
       "grid_auto_rows": null,
       "grid_column": null,
       "grid_gap": null,
       "grid_row": null,
       "grid_template_areas": null,
       "grid_template_columns": null,
       "grid_template_rows": null,
       "height": null,
       "justify_content": null,
       "justify_items": null,
       "left": null,
       "margin": null,
       "max_height": null,
       "max_width": null,
       "min_height": null,
       "min_width": null,
       "object_fit": null,
       "object_position": null,
       "order": null,
       "overflow": null,
       "padding": null,
       "right": null,
       "top": null,
       "visibility": null,
       "width": null
      }
     },
     "13969602e14d477591a0d19414cd6bc0": {
      "model_module": "@jupyter-widgets/controls",
      "model_module_version": "2.0.0",
      "model_name": "FloatProgressModel",
      "state": {
       "_dom_classes": [],
       "_model_module": "@jupyter-widgets/controls",
       "_model_module_version": "2.0.0",
       "_model_name": "FloatProgressModel",
       "_view_count": null,
       "_view_module": "@jupyter-widgets/controls",
       "_view_module_version": "2.0.0",
       "_view_name": "ProgressView",
       "bar_style": "success",
       "description": "",
       "description_allow_html": false,
       "layout": "IPY_MODEL_8592ea80d5834967b9edda54460dbeac",
       "max": 60.0,
       "min": 0.0,
       "orientation": "horizontal",
       "style": "IPY_MODEL_46b96e9cdce840178fbf6ce0a950626a",
       "tabbable": null,
       "tooltip": null,
       "value": 60.0
      }
     },
     "17bea79e2bb043e58a5e24b06034997f": {
      "model_module": "@jupyter-widgets/base",
      "model_module_version": "2.0.0",
      "model_name": "LayoutModel",
      "state": {
       "_model_module": "@jupyter-widgets/base",
       "_model_module_version": "2.0.0",
       "_model_name": "LayoutModel",
       "_view_count": null,
       "_view_module": "@jupyter-widgets/base",
       "_view_module_version": "2.0.0",
       "_view_name": "LayoutView",
       "align_content": null,
       "align_items": null,
       "align_self": null,
       "border_bottom": null,
       "border_left": null,
       "border_right": null,
       "border_top": null,
       "bottom": null,
       "display": null,
       "flex": null,
       "flex_flow": null,
       "grid_area": null,
       "grid_auto_columns": null,
       "grid_auto_flow": null,
       "grid_auto_rows": null,
       "grid_column": null,
       "grid_gap": null,
       "grid_row": null,
       "grid_template_areas": null,
       "grid_template_columns": null,
       "grid_template_rows": null,
       "height": null,
       "justify_content": null,
       "justify_items": null,
       "left": null,
       "margin": null,
       "max_height": null,
       "max_width": null,
       "min_height": null,
       "min_width": null,
       "object_fit": null,
       "object_position": null,
       "order": null,
       "overflow": null,
       "padding": null,
       "right": null,
       "top": null,
       "visibility": null,
       "width": null
      }
     },
     "2545cb634707415cb3c2348be0f1e681": {
      "model_module": "@jupyter-widgets/controls",
      "model_module_version": "2.0.0",
      "model_name": "HTMLModel",
      "state": {
       "_dom_classes": [],
       "_model_module": "@jupyter-widgets/controls",
       "_model_module_version": "2.0.0",
       "_model_name": "HTMLModel",
       "_view_count": null,
       "_view_module": "@jupyter-widgets/controls",
       "_view_module_version": "2.0.0",
       "_view_name": "HTMLView",
       "description": "",
       "description_allow_html": false,
       "layout": "IPY_MODEL_b3508d51c38040308bccb85d2db75427",
       "placeholder": "​",
       "style": "IPY_MODEL_ce4d3fba47e04ffc9fad80f2c7b1139a",
       "tabbable": null,
       "tooltip": null,
       "value": " 385/385 [00:00&lt;00:00, 36.7kB/s]"
      }
     },
     "293e5a0f519241c78147ac15c940044e": {
      "model_module": "@jupyter-widgets/controls",
      "model_module_version": "2.0.0",
      "model_name": "HTMLStyleModel",
      "state": {
       "_model_module": "@jupyter-widgets/controls",
       "_model_module_version": "2.0.0",
       "_model_name": "HTMLStyleModel",
       "_view_count": null,
       "_view_module": "@jupyter-widgets/base",
       "_view_module_version": "2.0.0",
       "_view_name": "StyleView",
       "background": null,
       "description_width": "",
       "font_size": null,
       "text_color": null
      }
     },
     "2b8374a0da264b64bc40b63acada9ae9": {
      "model_module": "@jupyter-widgets/controls",
      "model_module_version": "2.0.0",
      "model_name": "FloatProgressModel",
      "state": {
       "_dom_classes": [],
       "_model_module": "@jupyter-widgets/controls",
       "_model_module_version": "2.0.0",
       "_model_name": "FloatProgressModel",
       "_view_count": null,
       "_view_module": "@jupyter-widgets/controls",
       "_view_module_version": "2.0.0",
       "_view_name": "ProgressView",
       "bar_style": "success",
       "description": "",
       "description_allow_html": false,
       "layout": "IPY_MODEL_a7ff99bc10764d579eac54b682a50a83",
       "max": 385.0,
       "min": 0.0,
       "orientation": "horizontal",
       "style": "IPY_MODEL_edf717bb9cb745bfaf9bc034cfa6ed8f",
       "tabbable": null,
       "tooltip": null,
       "value": 385.0
      }
     },
     "2e8f202f36d64d7e90a9ef9c6a6fa4e7": {
      "model_module": "@jupyter-widgets/controls",
      "model_module_version": "2.0.0",
      "model_name": "HTMLStyleModel",
      "state": {
       "_model_module": "@jupyter-widgets/controls",
       "_model_module_version": "2.0.0",
       "_model_name": "HTMLStyleModel",
       "_view_count": null,
       "_view_module": "@jupyter-widgets/base",
       "_view_module_version": "2.0.0",
       "_view_name": "StyleView",
       "background": null,
       "description_width": "",
       "font_size": null,
       "text_color": null
      }
     },
     "3058442fa50c4515b76097ab136a4a36": {
      "model_module": "@jupyter-widgets/base",
      "model_module_version": "2.0.0",
      "model_name": "LayoutModel",
      "state": {
       "_model_module": "@jupyter-widgets/base",
       "_model_module_version": "2.0.0",
       "_model_name": "LayoutModel",
       "_view_count": null,
       "_view_module": "@jupyter-widgets/base",
       "_view_module_version": "2.0.0",
       "_view_name": "LayoutView",
       "align_content": null,
       "align_items": null,
       "align_self": null,
       "border_bottom": null,
       "border_left": null,
       "border_right": null,
       "border_top": null,
       "bottom": null,
       "display": null,
       "flex": null,
       "flex_flow": null,
       "grid_area": null,
       "grid_auto_columns": null,
       "grid_auto_flow": null,
       "grid_auto_rows": null,
       "grid_column": null,
       "grid_gap": null,
       "grid_row": null,
       "grid_template_areas": null,
       "grid_template_columns": null,
       "grid_template_rows": null,
       "height": null,
       "justify_content": null,
       "justify_items": null,
       "left": null,
       "margin": null,
       "max_height": null,
       "max_width": null,
       "min_height": null,
       "min_width": null,
       "object_fit": null,
       "object_position": null,
       "order": null,
       "overflow": null,
       "padding": null,
       "right": null,
       "top": null,
       "visibility": null,
       "width": null
      }
     },
     "3f6e8df068d2402983371b914ee90435": {
      "model_module": "@jupyter-widgets/base",
      "model_module_version": "2.0.0",
      "model_name": "LayoutModel",
      "state": {
       "_model_module": "@jupyter-widgets/base",
       "_model_module_version": "2.0.0",
       "_model_name": "LayoutModel",
       "_view_count": null,
       "_view_module": "@jupyter-widgets/base",
       "_view_module_version": "2.0.0",
       "_view_name": "LayoutView",
       "align_content": null,
       "align_items": null,
       "align_self": null,
       "border_bottom": null,
       "border_left": null,
       "border_right": null,
       "border_top": null,
       "bottom": null,
       "display": null,
       "flex": null,
       "flex_flow": null,
       "grid_area": null,
       "grid_auto_columns": null,
       "grid_auto_flow": null,
       "grid_auto_rows": null,
       "grid_column": null,
       "grid_gap": null,
       "grid_row": null,
       "grid_template_areas": null,
       "grid_template_columns": null,
       "grid_template_rows": null,
       "height": null,
       "justify_content": null,
       "justify_items": null,
       "left": null,
       "margin": null,
       "max_height": null,
       "max_width": null,
       "min_height": null,
       "min_width": null,
       "object_fit": null,
       "object_position": null,
       "order": null,
       "overflow": null,
       "padding": null,
       "right": null,
       "top": null,
       "visibility": null,
       "width": null
      }
     },
     "43fe07454590481788fbbc2b3ace8e60": {
      "model_module": "@jupyter-widgets/base",
      "model_module_version": "2.0.0",
      "model_name": "LayoutModel",
      "state": {
       "_model_module": "@jupyter-widgets/base",
       "_model_module_version": "2.0.0",
       "_model_name": "LayoutModel",
       "_view_count": null,
       "_view_module": "@jupyter-widgets/base",
       "_view_module_version": "2.0.0",
       "_view_name": "LayoutView",
       "align_content": null,
       "align_items": null,
       "align_self": null,
       "border_bottom": null,
       "border_left": null,
       "border_right": null,
       "border_top": null,
       "bottom": null,
       "display": null,
       "flex": null,
       "flex_flow": null,
       "grid_area": null,
       "grid_auto_columns": null,
       "grid_auto_flow": null,
       "grid_auto_rows": null,
       "grid_column": null,
       "grid_gap": null,
       "grid_row": null,
       "grid_template_areas": null,
       "grid_template_columns": null,
       "grid_template_rows": null,
       "height": null,
       "justify_content": null,
       "justify_items": null,
       "left": null,
       "margin": null,
       "max_height": null,
       "max_width": null,
       "min_height": null,
       "min_width": null,
       "object_fit": null,
       "object_position": null,
       "order": null,
       "overflow": null,
       "padding": null,
       "right": null,
       "top": null,
       "visibility": null,
       "width": null
      }
     },
     "45fdefd2d6834ad685860acdb8dc8991": {
      "model_module": "@jupyter-widgets/controls",
      "model_module_version": "2.0.0",
      "model_name": "HTMLStyleModel",
      "state": {
       "_model_module": "@jupyter-widgets/controls",
       "_model_module_version": "2.0.0",
       "_model_name": "HTMLStyleModel",
       "_view_count": null,
       "_view_module": "@jupyter-widgets/base",
       "_view_module_version": "2.0.0",
       "_view_name": "StyleView",
       "background": null,
       "description_width": "",
       "font_size": null,
       "text_color": null
      }
     },
     "46b96e9cdce840178fbf6ce0a950626a": {
      "model_module": "@jupyter-widgets/controls",
      "model_module_version": "2.0.0",
      "model_name": "ProgressStyleModel",
      "state": {
       "_model_module": "@jupyter-widgets/controls",
       "_model_module_version": "2.0.0",
       "_model_name": "ProgressStyleModel",
       "_view_count": null,
       "_view_module": "@jupyter-widgets/base",
       "_view_module_version": "2.0.0",
       "_view_name": "StyleView",
       "bar_color": null,
       "description_width": ""
      }
     },
     "4c6a2ff399534086a9b9de160889aec3": {
      "model_module": "@jupyter-widgets/controls",
      "model_module_version": "2.0.0",
      "model_name": "HTMLModel",
      "state": {
       "_dom_classes": [],
       "_model_module": "@jupyter-widgets/controls",
       "_model_module_version": "2.0.0",
       "_model_name": "HTMLModel",
       "_view_count": null,
       "_view_module": "@jupyter-widgets/controls",
       "_view_module_version": "2.0.0",
       "_view_name": "HTMLView",
       "description": "",
       "description_allow_html": false,
       "layout": "IPY_MODEL_ff97014d34d44b65b6bf1a33696e617c",
       "placeholder": "​",
       "style": "IPY_MODEL_acc20fc83d0349b9a174f11029b32032",
       "tabbable": null,
       "tooltip": null,
       "value": "tokenizer_config.json: 100%"
      }
     },
     "4f6e3db1f49e4b329454b579dfd34273": {
      "model_module": "@jupyter-widgets/base",
      "model_module_version": "2.0.0",
      "model_name": "LayoutModel",
      "state": {
       "_model_module": "@jupyter-widgets/base",
       "_model_module_version": "2.0.0",
       "_model_name": "LayoutModel",
       "_view_count": null,
       "_view_module": "@jupyter-widgets/base",
       "_view_module_version": "2.0.0",
       "_view_name": "LayoutView",
       "align_content": null,
       "align_items": null,
       "align_self": null,
       "border_bottom": null,
       "border_left": null,
       "border_right": null,
       "border_top": null,
       "bottom": null,
       "display": null,
       "flex": null,
       "flex_flow": null,
       "grid_area": null,
       "grid_auto_columns": null,
       "grid_auto_flow": null,
       "grid_auto_rows": null,
       "grid_column": null,
       "grid_gap": null,
       "grid_row": null,
       "grid_template_areas": null,
       "grid_template_columns": null,
       "grid_template_rows": null,
       "height": null,
       "justify_content": null,
       "justify_items": null,
       "left": null,
       "margin": null,
       "max_height": null,
       "max_width": null,
       "min_height": null,
       "min_width": null,
       "object_fit": null,
       "object_position": null,
       "order": null,
       "overflow": null,
       "padding": null,
       "right": null,
       "top": null,
       "visibility": null,
       "width": null
      }
     },
     "5dd3d1e296a44f05b0e3d24a9ab43679": {
      "model_module": "@jupyter-widgets/controls",
      "model_module_version": "2.0.0",
      "model_name": "HTMLModel",
      "state": {
       "_dom_classes": [],
       "_model_module": "@jupyter-widgets/controls",
       "_model_module_version": "2.0.0",
       "_model_name": "HTMLModel",
       "_view_count": null,
       "_view_module": "@jupyter-widgets/controls",
       "_view_module_version": "2.0.0",
       "_view_name": "HTMLView",
       "description": "",
       "description_allow_html": false,
       "layout": "IPY_MODEL_17bea79e2bb043e58a5e24b06034997f",
       "placeholder": "​",
       "style": "IPY_MODEL_45fdefd2d6834ad685860acdb8dc8991",
       "tabbable": null,
       "tooltip": null,
       "value": " 60.0/60.0 [00:00&lt;00:00, 5.31kB/s]"
      }
     },
     "6385bcf89d3744628a1798667d9ea02b": {
      "model_module": "@jupyter-widgets/base",
      "model_module_version": "2.0.0",
      "model_name": "LayoutModel",
      "state": {
       "_model_module": "@jupyter-widgets/base",
       "_model_module_version": "2.0.0",
       "_model_name": "LayoutModel",
       "_view_count": null,
       "_view_module": "@jupyter-widgets/base",
       "_view_module_version": "2.0.0",
       "_view_name": "LayoutView",
       "align_content": null,
       "align_items": null,
       "align_self": null,
       "border_bottom": null,
       "border_left": null,
       "border_right": null,
       "border_top": null,
       "bottom": null,
       "display": null,
       "flex": null,
       "flex_flow": null,
       "grid_area": null,
       "grid_auto_columns": null,
       "grid_auto_flow": null,
       "grid_auto_rows": null,
       "grid_column": null,
       "grid_gap": null,
       "grid_row": null,
       "grid_template_areas": null,
       "grid_template_columns": null,
       "grid_template_rows": null,
       "height": null,
       "justify_content": null,
       "justify_items": null,
       "left": null,
       "margin": null,
       "max_height": null,
       "max_width": null,
       "min_height": null,
       "min_width": null,
       "object_fit": null,
       "object_position": null,
       "order": null,
       "overflow": null,
       "padding": null,
       "right": null,
       "top": null,
       "visibility": null,
       "width": null
      }
     },
     "655a98945aac47cf8a274f2006bec043": {
      "model_module": "@jupyter-widgets/controls",
      "model_module_version": "2.0.0",
      "model_name": "HTMLModel",
      "state": {
       "_dom_classes": [],
       "_model_module": "@jupyter-widgets/controls",
       "_model_module_version": "2.0.0",
       "_model_name": "HTMLModel",
       "_view_count": null,
       "_view_module": "@jupyter-widgets/controls",
       "_view_module_version": "2.0.0",
       "_view_name": "HTMLView",
       "description": "",
       "description_allow_html": false,
       "layout": "IPY_MODEL_a6d7c167ca5d413eb390c5161e0503c8",
       "placeholder": "​",
       "style": "IPY_MODEL_bc970601f75549b7adbbd8fa906d0baf",
       "tabbable": null,
       "tooltip": null,
       "value": "config.json: 100%"
      }
     },
     "688565ab784d478190d9bddd0dd15a7a": {
      "model_module": "@jupyter-widgets/controls",
      "model_module_version": "2.0.0",
      "model_name": "HTMLModel",
      "state": {
       "_dom_classes": [],
       "_model_module": "@jupyter-widgets/controls",
       "_model_module_version": "2.0.0",
       "_model_name": "HTMLModel",
       "_view_count": null,
       "_view_module": "@jupyter-widgets/controls",
       "_view_module_version": "2.0.0",
       "_view_name": "HTMLView",
       "description": "",
       "description_allow_html": false,
       "layout": "IPY_MODEL_3f6e8df068d2402983371b914ee90435",
       "placeholder": "​",
       "style": "IPY_MODEL_88c0998a4642418e8161d42ee2dacaf1",
       "tabbable": null,
       "tooltip": null,
       "value": " 445M/445M [00:12&lt;00:00, 36.1MB/s]"
      }
     },
     "7353de427be448848ee9431801f7de83": {
      "model_module": "@jupyter-widgets/controls",
      "model_module_version": "2.0.0",
      "model_name": "FloatProgressModel",
      "state": {
       "_dom_classes": [],
       "_model_module": "@jupyter-widgets/controls",
       "_model_module_version": "2.0.0",
       "_model_name": "FloatProgressModel",
       "_view_count": null,
       "_view_module": "@jupyter-widgets/controls",
       "_view_module_version": "2.0.0",
       "_view_name": "ProgressView",
       "bar_style": "success",
       "description": "",
       "description_allow_html": false,
       "layout": "IPY_MODEL_3058442fa50c4515b76097ab136a4a36",
       "max": 251003.0,
       "min": 0.0,
       "orientation": "horizontal",
       "style": "IPY_MODEL_ceb117ca450d41f98b083fc536f7b2b4",
       "tabbable": null,
       "tooltip": null,
       "value": 251003.0
      }
     },
     "756abca8f5f04f9d94155626507d26ce": {
      "model_module": "@jupyter-widgets/controls",
      "model_module_version": "2.0.0",
      "model_name": "HTMLModel",
      "state": {
       "_dom_classes": [],
       "_model_module": "@jupyter-widgets/controls",
       "_model_module_version": "2.0.0",
       "_model_name": "HTMLModel",
       "_view_count": null,
       "_view_module": "@jupyter-widgets/controls",
       "_view_module_version": "2.0.0",
       "_view_name": "HTMLView",
       "description": "",
       "description_allow_html": false,
       "layout": "IPY_MODEL_9fe17dd54206474da9ade45dd72bf9f7",
       "placeholder": "​",
       "style": "IPY_MODEL_293e5a0f519241c78147ac15c940044e",
       "tabbable": null,
       "tooltip": null,
       "value": " 251k/251k [00:00&lt;00:00, 731kB/s]"
      }
     },
     "798a16f6838e43c0967bc64f48a9e03d": {
      "model_module": "@jupyter-widgets/controls",
      "model_module_version": "2.0.0",
      "model_name": "HTMLStyleModel",
      "state": {
       "_model_module": "@jupyter-widgets/controls",
       "_model_module_version": "2.0.0",
       "_model_name": "HTMLStyleModel",
       "_view_count": null,
       "_view_module": "@jupyter-widgets/base",
       "_view_module_version": "2.0.0",
       "_view_name": "StyleView",
       "background": null,
       "description_width": "",
       "font_size": null,
       "text_color": null
      }
     },
     "8592ea80d5834967b9edda54460dbeac": {
      "model_module": "@jupyter-widgets/base",
      "model_module_version": "2.0.0",
      "model_name": "LayoutModel",
      "state": {
       "_model_module": "@jupyter-widgets/base",
       "_model_module_version": "2.0.0",
       "_model_name": "LayoutModel",
       "_view_count": null,
       "_view_module": "@jupyter-widgets/base",
       "_view_module_version": "2.0.0",
       "_view_name": "LayoutView",
       "align_content": null,
       "align_items": null,
       "align_self": null,
       "border_bottom": null,
       "border_left": null,
       "border_right": null,
       "border_top": null,
       "bottom": null,
       "display": null,
       "flex": null,
       "flex_flow": null,
       "grid_area": null,
       "grid_auto_columns": null,
       "grid_auto_flow": null,
       "grid_auto_rows": null,
       "grid_column": null,
       "grid_gap": null,
       "grid_row": null,
       "grid_template_areas": null,
       "grid_template_columns": null,
       "grid_template_rows": null,
       "height": null,
       "justify_content": null,
       "justify_items": null,
       "left": null,
       "margin": null,
       "max_height": null,
       "max_width": null,
       "min_height": null,
       "min_width": null,
       "object_fit": null,
       "object_position": null,
       "order": null,
       "overflow": null,
       "padding": null,
       "right": null,
       "top": null,
       "visibility": null,
       "width": null
      }
     },
     "88c0998a4642418e8161d42ee2dacaf1": {
      "model_module": "@jupyter-widgets/controls",
      "model_module_version": "2.0.0",
      "model_name": "HTMLStyleModel",
      "state": {
       "_model_module": "@jupyter-widgets/controls",
       "_model_module_version": "2.0.0",
       "_model_name": "HTMLStyleModel",
       "_view_count": null,
       "_view_module": "@jupyter-widgets/base",
       "_view_module_version": "2.0.0",
       "_view_name": "StyleView",
       "background": null,
       "description_width": "",
       "font_size": null,
       "text_color": null
      }
     },
     "9fe17dd54206474da9ade45dd72bf9f7": {
      "model_module": "@jupyter-widgets/base",
      "model_module_version": "2.0.0",
      "model_name": "LayoutModel",
      "state": {
       "_model_module": "@jupyter-widgets/base",
       "_model_module_version": "2.0.0",
       "_model_name": "LayoutModel",
       "_view_count": null,
       "_view_module": "@jupyter-widgets/base",
       "_view_module_version": "2.0.0",
       "_view_name": "LayoutView",
       "align_content": null,
       "align_items": null,
       "align_self": null,
       "border_bottom": null,
       "border_left": null,
       "border_right": null,
       "border_top": null,
       "bottom": null,
       "display": null,
       "flex": null,
       "flex_flow": null,
       "grid_area": null,
       "grid_auto_columns": null,
       "grid_auto_flow": null,
       "grid_auto_rows": null,
       "grid_column": null,
       "grid_gap": null,
       "grid_row": null,
       "grid_template_areas": null,
       "grid_template_columns": null,
       "grid_template_rows": null,
       "height": null,
       "justify_content": null,
       "justify_items": null,
       "left": null,
       "margin": null,
       "max_height": null,
       "max_width": null,
       "min_height": null,
       "min_width": null,
       "object_fit": null,
       "object_position": null,
       "order": null,
       "overflow": null,
       "padding": null,
       "right": null,
       "top": null,
       "visibility": null,
       "width": null
      }
     },
     "a50e65e6f9914d1290fe414a3b261efd": {
      "model_module": "@jupyter-widgets/base",
      "model_module_version": "2.0.0",
      "model_name": "LayoutModel",
      "state": {
       "_model_module": "@jupyter-widgets/base",
       "_model_module_version": "2.0.0",
       "_model_name": "LayoutModel",
       "_view_count": null,
       "_view_module": "@jupyter-widgets/base",
       "_view_module_version": "2.0.0",
       "_view_name": "LayoutView",
       "align_content": null,
       "align_items": null,
       "align_self": null,
       "border_bottom": null,
       "border_left": null,
       "border_right": null,
       "border_top": null,
       "bottom": null,
       "display": null,
       "flex": null,
       "flex_flow": null,
       "grid_area": null,
       "grid_auto_columns": null,
       "grid_auto_flow": null,
       "grid_auto_rows": null,
       "grid_column": null,
       "grid_gap": null,
       "grid_row": null,
       "grid_template_areas": null,
       "grid_template_columns": null,
       "grid_template_rows": null,
       "height": null,
       "justify_content": null,
       "justify_items": null,
       "left": null,
       "margin": null,
       "max_height": null,
       "max_width": null,
       "min_height": null,
       "min_width": null,
       "object_fit": null,
       "object_position": null,
       "order": null,
       "overflow": null,
       "padding": null,
       "right": null,
       "top": null,
       "visibility": null,
       "width": null
      }
     },
     "a6d7c167ca5d413eb390c5161e0503c8": {
      "model_module": "@jupyter-widgets/base",
      "model_module_version": "2.0.0",
      "model_name": "LayoutModel",
      "state": {
       "_model_module": "@jupyter-widgets/base",
       "_model_module_version": "2.0.0",
       "_model_name": "LayoutModel",
       "_view_count": null,
       "_view_module": "@jupyter-widgets/base",
       "_view_module_version": "2.0.0",
       "_view_name": "LayoutView",
       "align_content": null,
       "align_items": null,
       "align_self": null,
       "border_bottom": null,
       "border_left": null,
       "border_right": null,
       "border_top": null,
       "bottom": null,
       "display": null,
       "flex": null,
       "flex_flow": null,
       "grid_area": null,
       "grid_auto_columns": null,
       "grid_auto_flow": null,
       "grid_auto_rows": null,
       "grid_column": null,
       "grid_gap": null,
       "grid_row": null,
       "grid_template_areas": null,
       "grid_template_columns": null,
       "grid_template_rows": null,
       "height": null,
       "justify_content": null,
       "justify_items": null,
       "left": null,
       "margin": null,
       "max_height": null,
       "max_width": null,
       "min_height": null,
       "min_width": null,
       "object_fit": null,
       "object_position": null,
       "order": null,
       "overflow": null,
       "padding": null,
       "right": null,
       "top": null,
       "visibility": null,
       "width": null
      }
     },
     "a7ff99bc10764d579eac54b682a50a83": {
      "model_module": "@jupyter-widgets/base",
      "model_module_version": "2.0.0",
      "model_name": "LayoutModel",
      "state": {
       "_model_module": "@jupyter-widgets/base",
       "_model_module_version": "2.0.0",
       "_model_name": "LayoutModel",
       "_view_count": null,
       "_view_module": "@jupyter-widgets/base",
       "_view_module_version": "2.0.0",
       "_view_name": "LayoutView",
       "align_content": null,
       "align_items": null,
       "align_self": null,
       "border_bottom": null,
       "border_left": null,
       "border_right": null,
       "border_top": null,
       "bottom": null,
       "display": null,
       "flex": null,
       "flex_flow": null,
       "grid_area": null,
       "grid_auto_columns": null,
       "grid_auto_flow": null,
       "grid_auto_rows": null,
       "grid_column": null,
       "grid_gap": null,
       "grid_row": null,
       "grid_template_areas": null,
       "grid_template_columns": null,
       "grid_template_rows": null,
       "height": null,
       "justify_content": null,
       "justify_items": null,
       "left": null,
       "margin": null,
       "max_height": null,
       "max_width": null,
       "min_height": null,
       "min_width": null,
       "object_fit": null,
       "object_position": null,
       "order": null,
       "overflow": null,
       "padding": null,
       "right": null,
       "top": null,
       "visibility": null,
       "width": null
      }
     },
     "acc20fc83d0349b9a174f11029b32032": {
      "model_module": "@jupyter-widgets/controls",
      "model_module_version": "2.0.0",
      "model_name": "HTMLStyleModel",
      "state": {
       "_model_module": "@jupyter-widgets/controls",
       "_model_module_version": "2.0.0",
       "_model_name": "HTMLStyleModel",
       "_view_count": null,
       "_view_module": "@jupyter-widgets/base",
       "_view_module_version": "2.0.0",
       "_view_name": "StyleView",
       "background": null,
       "description_width": "",
       "font_size": null,
       "text_color": null
      }
     },
     "b3508d51c38040308bccb85d2db75427": {
      "model_module": "@jupyter-widgets/base",
      "model_module_version": "2.0.0",
      "model_name": "LayoutModel",
      "state": {
       "_model_module": "@jupyter-widgets/base",
       "_model_module_version": "2.0.0",
       "_model_name": "LayoutModel",
       "_view_count": null,
       "_view_module": "@jupyter-widgets/base",
       "_view_module_version": "2.0.0",
       "_view_name": "LayoutView",
       "align_content": null,
       "align_items": null,
       "align_self": null,
       "border_bottom": null,
       "border_left": null,
       "border_right": null,
       "border_top": null,
       "bottom": null,
       "display": null,
       "flex": null,
       "flex_flow": null,
       "grid_area": null,
       "grid_auto_columns": null,
       "grid_auto_flow": null,
       "grid_auto_rows": null,
       "grid_column": null,
       "grid_gap": null,
       "grid_row": null,
       "grid_template_areas": null,
       "grid_template_columns": null,
       "grid_template_rows": null,
       "height": null,
       "justify_content": null,
       "justify_items": null,
       "left": null,
       "margin": null,
       "max_height": null,
       "max_width": null,
       "min_height": null,
       "min_width": null,
       "object_fit": null,
       "object_position": null,
       "order": null,
       "overflow": null,
       "padding": null,
       "right": null,
       "top": null,
       "visibility": null,
       "width": null
      }
     },
     "bc970601f75549b7adbbd8fa906d0baf": {
      "model_module": "@jupyter-widgets/controls",
      "model_module_version": "2.0.0",
      "model_name": "HTMLStyleModel",
      "state": {
       "_model_module": "@jupyter-widgets/controls",
       "_model_module_version": "2.0.0",
       "_model_name": "HTMLStyleModel",
       "_view_count": null,
       "_view_module": "@jupyter-widgets/base",
       "_view_module_version": "2.0.0",
       "_view_name": "StyleView",
       "background": null,
       "description_width": "",
       "font_size": null,
       "text_color": null
      }
     },
     "be8185947fc44379bf2a5740633891f0": {
      "model_module": "@jupyter-widgets/controls",
      "model_module_version": "2.0.0",
      "model_name": "HBoxModel",
      "state": {
       "_dom_classes": [],
       "_model_module": "@jupyter-widgets/controls",
       "_model_module_version": "2.0.0",
       "_model_name": "HBoxModel",
       "_view_count": null,
       "_view_module": "@jupyter-widgets/controls",
       "_view_module_version": "2.0.0",
       "_view_name": "HBoxView",
       "box_style": "",
       "children": [
        "IPY_MODEL_e2bcf9cc04334a6d982f29c3fad27f3f",
        "IPY_MODEL_7353de427be448848ee9431801f7de83",
        "IPY_MODEL_756abca8f5f04f9d94155626507d26ce"
       ],
       "layout": "IPY_MODEL_4f6e3db1f49e4b329454b579dfd34273",
       "tabbable": null,
       "tooltip": null
      }
     },
     "c3b943cc71ed4a368d46f55ab93b6026": {
      "model_module": "@jupyter-widgets/controls",
      "model_module_version": "2.0.0",
      "model_name": "HTMLModel",
      "state": {
       "_dom_classes": [],
       "_model_module": "@jupyter-widgets/controls",
       "_model_module_version": "2.0.0",
       "_model_name": "HTMLModel",
       "_view_count": null,
       "_view_module": "@jupyter-widgets/controls",
       "_view_module_version": "2.0.0",
       "_view_name": "HTMLView",
       "description": "",
       "description_allow_html": false,
       "layout": "IPY_MODEL_f0dcbbb0cc7b4e30992590444bad891a",
       "placeholder": "​",
       "style": "IPY_MODEL_798a16f6838e43c0967bc64f48a9e03d",
       "tabbable": null,
       "tooltip": null,
       "value": "model.safetensors: 100%"
      }
     },
     "cdc92d43a9164c50886affdb096b1d4e": {
      "model_module": "@jupyter-widgets/controls",
      "model_module_version": "2.0.0",
      "model_name": "HBoxModel",
      "state": {
       "_dom_classes": [],
       "_model_module": "@jupyter-widgets/controls",
       "_model_module_version": "2.0.0",
       "_model_name": "HBoxModel",
       "_view_count": null,
       "_view_module": "@jupyter-widgets/controls",
       "_view_module_version": "2.0.0",
       "_view_name": "HBoxView",
       "box_style": "",
       "children": [
        "IPY_MODEL_655a98945aac47cf8a274f2006bec043",
        "IPY_MODEL_2b8374a0da264b64bc40b63acada9ae9",
        "IPY_MODEL_2545cb634707415cb3c2348be0f1e681"
       ],
       "layout": "IPY_MODEL_a50e65e6f9914d1290fe414a3b261efd",
       "tabbable": null,
       "tooltip": null
      }
     },
     "ce4d3fba47e04ffc9fad80f2c7b1139a": {
      "model_module": "@jupyter-widgets/controls",
      "model_module_version": "2.0.0",
      "model_name": "HTMLStyleModel",
      "state": {
       "_model_module": "@jupyter-widgets/controls",
       "_model_module_version": "2.0.0",
       "_model_name": "HTMLStyleModel",
       "_view_count": null,
       "_view_module": "@jupyter-widgets/base",
       "_view_module_version": "2.0.0",
       "_view_name": "StyleView",
       "background": null,
       "description_width": "",
       "font_size": null,
       "text_color": null
      }
     },
     "ceb117ca450d41f98b083fc536f7b2b4": {
      "model_module": "@jupyter-widgets/controls",
      "model_module_version": "2.0.0",
      "model_name": "ProgressStyleModel",
      "state": {
       "_model_module": "@jupyter-widgets/controls",
       "_model_module_version": "2.0.0",
       "_model_name": "ProgressStyleModel",
       "_view_count": null,
       "_view_module": "@jupyter-widgets/base",
       "_view_module_version": "2.0.0",
       "_view_name": "StyleView",
       "bar_color": null,
       "description_width": ""
      }
     },
     "da170dcf65134e1d87c7b48dd3f1c794": {
      "model_module": "@jupyter-widgets/controls",
      "model_module_version": "2.0.0",
      "model_name": "FloatProgressModel",
      "state": {
       "_dom_classes": [],
       "_model_module": "@jupyter-widgets/controls",
       "_model_module_version": "2.0.0",
       "_model_name": "FloatProgressModel",
       "_view_count": null,
       "_view_module": "@jupyter-widgets/controls",
       "_view_module_version": "2.0.0",
       "_view_name": "ProgressView",
       "bar_style": "success",
       "description": "",
       "description_allow_html": false,
       "layout": "IPY_MODEL_43fe07454590481788fbbc2b3ace8e60",
       "max": 444996256.0,
       "min": 0.0,
       "orientation": "horizontal",
       "style": "IPY_MODEL_e73d10d2918a4176857fc150a3e92178",
       "tabbable": null,
       "tooltip": null,
       "value": 444996256.0
      }
     },
     "e2bcf9cc04334a6d982f29c3fad27f3f": {
      "model_module": "@jupyter-widgets/controls",
      "model_module_version": "2.0.0",
      "model_name": "HTMLModel",
      "state": {
       "_dom_classes": [],
       "_model_module": "@jupyter-widgets/controls",
       "_model_module_version": "2.0.0",
       "_model_name": "HTMLModel",
       "_view_count": null,
       "_view_module": "@jupyter-widgets/controls",
       "_view_module_version": "2.0.0",
       "_view_name": "HTMLView",
       "description": "",
       "description_allow_html": false,
       "layout": "IPY_MODEL_f00d102313d543729e7b2fc9d3aa3388",
       "placeholder": "​",
       "style": "IPY_MODEL_2e8f202f36d64d7e90a9ef9c6a6fa4e7",
       "tabbable": null,
       "tooltip": null,
       "value": "vocab.txt: 100%"
      }
     },
     "e73d10d2918a4176857fc150a3e92178": {
      "model_module": "@jupyter-widgets/controls",
      "model_module_version": "2.0.0",
      "model_name": "ProgressStyleModel",
      "state": {
       "_model_module": "@jupyter-widgets/controls",
       "_model_module_version": "2.0.0",
       "_model_name": "ProgressStyleModel",
       "_view_count": null,
       "_view_module": "@jupyter-widgets/base",
       "_view_module_version": "2.0.0",
       "_view_name": "StyleView",
       "bar_color": null,
       "description_width": ""
      }
     },
     "edf717bb9cb745bfaf9bc034cfa6ed8f": {
      "model_module": "@jupyter-widgets/controls",
      "model_module_version": "2.0.0",
      "model_name": "ProgressStyleModel",
      "state": {
       "_model_module": "@jupyter-widgets/controls",
       "_model_module_version": "2.0.0",
       "_model_name": "ProgressStyleModel",
       "_view_count": null,
       "_view_module": "@jupyter-widgets/base",
       "_view_module_version": "2.0.0",
       "_view_name": "StyleView",
       "bar_color": null,
       "description_width": ""
      }
     },
     "efaa073db2bf4cf99fff3e508c7bb5af": {
      "model_module": "@jupyter-widgets/controls",
      "model_module_version": "2.0.0",
      "model_name": "HBoxModel",
      "state": {
       "_dom_classes": [],
       "_model_module": "@jupyter-widgets/controls",
       "_model_module_version": "2.0.0",
       "_model_name": "HBoxModel",
       "_view_count": null,
       "_view_module": "@jupyter-widgets/controls",
       "_view_module_version": "2.0.0",
       "_view_name": "HBoxView",
       "box_style": "",
       "children": [
        "IPY_MODEL_c3b943cc71ed4a368d46f55ab93b6026",
        "IPY_MODEL_da170dcf65134e1d87c7b48dd3f1c794",
        "IPY_MODEL_688565ab784d478190d9bddd0dd15a7a"
       ],
       "layout": "IPY_MODEL_6385bcf89d3744628a1798667d9ea02b",
       "tabbable": null,
       "tooltip": null
      }
     },
     "f00d102313d543729e7b2fc9d3aa3388": {
      "model_module": "@jupyter-widgets/base",
      "model_module_version": "2.0.0",
      "model_name": "LayoutModel",
      "state": {
       "_model_module": "@jupyter-widgets/base",
       "_model_module_version": "2.0.0",
       "_model_name": "LayoutModel",
       "_view_count": null,
       "_view_module": "@jupyter-widgets/base",
       "_view_module_version": "2.0.0",
       "_view_name": "LayoutView",
       "align_content": null,
       "align_items": null,
       "align_self": null,
       "border_bottom": null,
       "border_left": null,
       "border_right": null,
       "border_top": null,
       "bottom": null,
       "display": null,
       "flex": null,
       "flex_flow": null,
       "grid_area": null,
       "grid_auto_columns": null,
       "grid_auto_flow": null,
       "grid_auto_rows": null,
       "grid_column": null,
       "grid_gap": null,
       "grid_row": null,
       "grid_template_areas": null,
       "grid_template_columns": null,
       "grid_template_rows": null,
       "height": null,
       "justify_content": null,
       "justify_items": null,
       "left": null,
       "margin": null,
       "max_height": null,
       "max_width": null,
       "min_height": null,
       "min_width": null,
       "object_fit": null,
       "object_position": null,
       "order": null,
       "overflow": null,
       "padding": null,
       "right": null,
       "top": null,
       "visibility": null,
       "width": null
      }
     },
     "f0dcbbb0cc7b4e30992590444bad891a": {
      "model_module": "@jupyter-widgets/base",
      "model_module_version": "2.0.0",
      "model_name": "LayoutModel",
      "state": {
       "_model_module": "@jupyter-widgets/base",
       "_model_module_version": "2.0.0",
       "_model_name": "LayoutModel",
       "_view_count": null,
       "_view_module": "@jupyter-widgets/base",
       "_view_module_version": "2.0.0",
       "_view_name": "LayoutView",
       "align_content": null,
       "align_items": null,
       "align_self": null,
       "border_bottom": null,
       "border_left": null,
       "border_right": null,
       "border_top": null,
       "bottom": null,
       "display": null,
       "flex": null,
       "flex_flow": null,
       "grid_area": null,
       "grid_auto_columns": null,
       "grid_auto_flow": null,
       "grid_auto_rows": null,
       "grid_column": null,
       "grid_gap": null,
       "grid_row": null,
       "grid_template_areas": null,
       "grid_template_columns": null,
       "grid_template_rows": null,
       "height": null,
       "justify_content": null,
       "justify_items": null,
       "left": null,
       "margin": null,
       "max_height": null,
       "max_width": null,
       "min_height": null,
       "min_width": null,
       "object_fit": null,
       "object_position": null,
       "order": null,
       "overflow": null,
       "padding": null,
       "right": null,
       "top": null,
       "visibility": null,
       "width": null
      }
     },
     "f1b4a6f60e7d40cd90c8e9fd79b1e3e2": {
      "model_module": "@jupyter-widgets/controls",
      "model_module_version": "2.0.0",
      "model_name": "HBoxModel",
      "state": {
       "_dom_classes": [],
       "_model_module": "@jupyter-widgets/controls",
       "_model_module_version": "2.0.0",
       "_model_name": "HBoxModel",
       "_view_count": null,
       "_view_module": "@jupyter-widgets/controls",
       "_view_module_version": "2.0.0",
       "_view_name": "HBoxView",
       "box_style": "",
       "children": [
        "IPY_MODEL_4c6a2ff399534086a9b9de160889aec3",
        "IPY_MODEL_13969602e14d477591a0d19414cd6bc0",
        "IPY_MODEL_5dd3d1e296a44f05b0e3d24a9ab43679"
       ],
       "layout": "IPY_MODEL_04b14aa2fcaa45d791ca1272332be60e",
       "tabbable": null,
       "tooltip": null
      }
     },
     "ff97014d34d44b65b6bf1a33696e617c": {
      "model_module": "@jupyter-widgets/base",
      "model_module_version": "2.0.0",
      "model_name": "LayoutModel",
      "state": {
       "_model_module": "@jupyter-widgets/base",
       "_model_module_version": "2.0.0",
       "_model_name": "LayoutModel",
       "_view_count": null,
       "_view_module": "@jupyter-widgets/base",
       "_view_module_version": "2.0.0",
       "_view_name": "LayoutView",
       "align_content": null,
       "align_items": null,
       "align_self": null,
       "border_bottom": null,
       "border_left": null,
       "border_right": null,
       "border_top": null,
       "bottom": null,
       "display": null,
       "flex": null,
       "flex_flow": null,
       "grid_area": null,
       "grid_auto_columns": null,
       "grid_auto_flow": null,
       "grid_auto_rows": null,
       "grid_column": null,
       "grid_gap": null,
       "grid_row": null,
       "grid_template_areas": null,
       "grid_template_columns": null,
       "grid_template_rows": null,
       "height": null,
       "justify_content": null,
       "justify_items": null,
       "left": null,
       "margin": null,
       "max_height": null,
       "max_width": null,
       "min_height": null,
       "min_width": null,
       "object_fit": null,
       "object_position": null,
       "order": null,
       "overflow": null,
       "padding": null,
       "right": null,
       "top": null,
       "visibility": null,
       "width": null
      }
     }
    },
    "version_major": 2,
    "version_minor": 0
   }
  }
 },
 "nbformat": 4,
 "nbformat_minor": 5
}
